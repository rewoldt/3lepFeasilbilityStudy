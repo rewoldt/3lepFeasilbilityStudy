{
 "cells": [
  {
   "cell_type": "code",
   "execution_count": 2,
   "id": "8d4a8b45",
   "metadata": {},
   "outputs": [],
   "source": [
    "import pandas as pd\n",
    "import numpy as np\n",
    "import sklearn\n",
    "import tensorflow as tf\n",
    "import keras\n",
    "import matplotlib.pyplot as plt\n",
    "from scipy import stats\n",
    "from sklearn import preprocessing\n",
    "%matplotlib inline\n",
    "\n",
    "'''signal and background files obtained from running \n",
    "/cluster/home/amyrewoldt/21.2.48/run/MVA_3lep.py for ttb and 800 H+ signal file'''\n",
    "\n",
    "sig500_file = \"/cluster/home/amyrewoldt/21.2.48/sig500-bdt.csv\"\n",
    "sig600_file = \"/cluster/home/amyrewoldt/21.2.48/sig600-bdt.csv\"\n",
    "sig700_file = \"/cluster/home/amyrewoldt/21.2.48/sig700-bdt.csv\"\n",
    "sig800_file = \"/cluster/home/amyrewoldt/21.2.48/sig800-bdt.csv\"\n",
    "sig1000_file = \"/cluster/home/amyrewoldt/21.2.48/sig1000-bdt.csv\"\n",
    "bkg_file = \"/cluster/home/amyrewoldt/21.2.48/bkg-bdt.csv\""
   ]
  },
  {
   "cell_type": "code",
   "execution_count": 3,
   "id": "3c08d90d",
   "metadata": {},
   "outputs": [],
   "source": [
    "#higher level variables\n",
    "mass_points = ['500GeV','600GeV','700GeV','800GeV','1000GeV']\n",
    "variable = [\"lepton_pt_l\",\"MET_l\",\"MT_l\",\"Mll_l\",\"DR_l\"]\n",
    "\n",
    "#add DR, check lepton pt for bkg"
   ]
  },
  {
   "cell_type": "code",
   "execution_count": 4,
   "id": "27a5a242",
   "metadata": {},
   "outputs": [],
   "source": [
    "#read signal files\n",
    "#for sig in sig_file:\n",
    "    \n",
    "df_sig500 = pd.read_csv(sig500_file,index_col=0)\n",
    "df_sig600 = pd.read_csv(sig600_file,index_col=0)\n",
    "df_sig700 = pd.read_csv(sig700_file,index_col=0)\n",
    "df_sig800 = pd.read_csv(sig800_file,index_col=0)\n",
    "df_sig1000 = pd.read_csv(sig1000_file,index_col=0)\n",
    "df_sig = [df_sig500,df_sig600,df_sig700,df_sig800,df_sig1000]\n",
    "df_bkg = pd.read_csv(bkg_file,index_col=0)"
   ]
  },
  {
   "cell_type": "code",
   "execution_count": 5,
   "id": "d1e896e9",
   "metadata": {},
   "outputs": [
    {
     "data": {
      "text/html": [
       "<div>\n",
       "<style scoped>\n",
       "    .dataframe tbody tr th:only-of-type {\n",
       "        vertical-align: middle;\n",
       "    }\n",
       "\n",
       "    .dataframe tbody tr th {\n",
       "        vertical-align: top;\n",
       "    }\n",
       "\n",
       "    .dataframe thead th {\n",
       "        text-align: right;\n",
       "    }\n",
       "</style>\n",
       "<table border=\"1\" class=\"dataframe\">\n",
       "  <thead>\n",
       "    <tr style=\"text-align: right;\">\n",
       "      <th></th>\n",
       "      <th>lepton_pt_l</th>\n",
       "      <th>MET_l</th>\n",
       "      <th>MT_l</th>\n",
       "      <th>Mll_l</th>\n",
       "      <th>DR_l</th>\n",
       "      <th>signal</th>\n",
       "    </tr>\n",
       "  </thead>\n",
       "  <tbody>\n",
       "    <tr>\n",
       "      <th>0</th>\n",
       "      <td>23705.536894</td>\n",
       "      <td>113191.871427</td>\n",
       "      <td>155328.764799</td>\n",
       "      <td>18138.873636</td>\n",
       "      <td>1.459376</td>\n",
       "      <td>1</td>\n",
       "    </tr>\n",
       "    <tr>\n",
       "      <th>1</th>\n",
       "      <td>41014.284850</td>\n",
       "      <td>121224.054033</td>\n",
       "      <td>282198.480001</td>\n",
       "      <td>94255.149420</td>\n",
       "      <td>2.435094</td>\n",
       "      <td>1</td>\n",
       "    </tr>\n",
       "    <tr>\n",
       "      <th>2</th>\n",
       "      <td>18543.266757</td>\n",
       "      <td>105985.451523</td>\n",
       "      <td>164723.672466</td>\n",
       "      <td>48588.278891</td>\n",
       "      <td>2.881728</td>\n",
       "      <td>1</td>\n",
       "    </tr>\n",
       "    <tr>\n",
       "      <th>3</th>\n",
       "      <td>49284.745269</td>\n",
       "      <td>115638.399306</td>\n",
       "      <td>202431.506177</td>\n",
       "      <td>37271.078123</td>\n",
       "      <td>1.662717</td>\n",
       "      <td>1</td>\n",
       "    </tr>\n",
       "    <tr>\n",
       "      <th>4</th>\n",
       "      <td>100246.022899</td>\n",
       "      <td>172669.011572</td>\n",
       "      <td>402180.057783</td>\n",
       "      <td>37271.078123</td>\n",
       "      <td>1.662717</td>\n",
       "      <td>1</td>\n",
       "    </tr>\n",
       "    <tr>\n",
       "      <th>...</th>\n",
       "      <td>...</td>\n",
       "      <td>...</td>\n",
       "      <td>...</td>\n",
       "      <td>...</td>\n",
       "      <td>...</td>\n",
       "      <td>...</td>\n",
       "    </tr>\n",
       "    <tr>\n",
       "      <th>9994</th>\n",
       "      <td>60091.355976</td>\n",
       "      <td>109680.134250</td>\n",
       "      <td>192988.668279</td>\n",
       "      <td>38383.416250</td>\n",
       "      <td>1.345311</td>\n",
       "      <td>1</td>\n",
       "    </tr>\n",
       "    <tr>\n",
       "      <th>9995</th>\n",
       "      <td>79635.441004</td>\n",
       "      <td>103999.611290</td>\n",
       "      <td>230045.236893</td>\n",
       "      <td>30406.118928</td>\n",
       "      <td>0.956707</td>\n",
       "      <td>1</td>\n",
       "    </tr>\n",
       "    <tr>\n",
       "      <th>9996</th>\n",
       "      <td>172202.407025</td>\n",
       "      <td>232205.972976</td>\n",
       "      <td>592185.963077</td>\n",
       "      <td>24115.862732</td>\n",
       "      <td>0.519693</td>\n",
       "      <td>1</td>\n",
       "    </tr>\n",
       "    <tr>\n",
       "      <th>9997</th>\n",
       "      <td>31152.013230</td>\n",
       "      <td>216233.959987</td>\n",
       "      <td>403335.676123</td>\n",
       "      <td>22644.632360</td>\n",
       "      <td>2.122411</td>\n",
       "      <td>1</td>\n",
       "    </tr>\n",
       "    <tr>\n",
       "      <th>9998</th>\n",
       "      <td>40649.856715</td>\n",
       "      <td>119418.281218</td>\n",
       "      <td>217873.886474</td>\n",
       "      <td>25295.914083</td>\n",
       "      <td>0.918404</td>\n",
       "      <td>1</td>\n",
       "    </tr>\n",
       "  </tbody>\n",
       "</table>\n",
       "<p>9999 rows × 6 columns</p>\n",
       "</div>"
      ],
      "text/plain": [
       "        lepton_pt_l          MET_l           MT_l         Mll_l      DR_l  \\\n",
       "0      23705.536894  113191.871427  155328.764799  18138.873636  1.459376   \n",
       "1      41014.284850  121224.054033  282198.480001  94255.149420  2.435094   \n",
       "2      18543.266757  105985.451523  164723.672466  48588.278891  2.881728   \n",
       "3      49284.745269  115638.399306  202431.506177  37271.078123  1.662717   \n",
       "4     100246.022899  172669.011572  402180.057783  37271.078123  1.662717   \n",
       "...             ...            ...            ...           ...       ...   \n",
       "9994   60091.355976  109680.134250  192988.668279  38383.416250  1.345311   \n",
       "9995   79635.441004  103999.611290  230045.236893  30406.118928  0.956707   \n",
       "9996  172202.407025  232205.972976  592185.963077  24115.862732  0.519693   \n",
       "9997   31152.013230  216233.959987  403335.676123  22644.632360  2.122411   \n",
       "9998   40649.856715  119418.281218  217873.886474  25295.914083  0.918404   \n",
       "\n",
       "      signal  \n",
       "0          1  \n",
       "1          1  \n",
       "2          1  \n",
       "3          1  \n",
       "4          1  \n",
       "...      ...  \n",
       "9994       1  \n",
       "9995       1  \n",
       "9996       1  \n",
       "9997       1  \n",
       "9998       1  \n",
       "\n",
       "[9999 rows x 6 columns]"
      ]
     },
     "execution_count": 5,
     "metadata": {},
     "output_type": "execute_result"
    }
   ],
   "source": [
    "#tagging signal as 1\n",
    "for sig in range(len(df_sig)):\n",
    "    df_sig[sig][\"signal\"] = 1\n",
    "df_sig[0]"
   ]
  },
  {
   "cell_type": "code",
   "execution_count": 6,
   "id": "513f78d4",
   "metadata": {},
   "outputs": [
    {
     "data": {
      "text/html": [
       "<div>\n",
       "<style scoped>\n",
       "    .dataframe tbody tr th:only-of-type {\n",
       "        vertical-align: middle;\n",
       "    }\n",
       "\n",
       "    .dataframe tbody tr th {\n",
       "        vertical-align: top;\n",
       "    }\n",
       "\n",
       "    .dataframe thead th {\n",
       "        text-align: right;\n",
       "    }\n",
       "</style>\n",
       "<table border=\"1\" class=\"dataframe\">\n",
       "  <thead>\n",
       "    <tr style=\"text-align: right;\">\n",
       "      <th></th>\n",
       "      <th>lepton_pt_l</th>\n",
       "      <th>MET_l</th>\n",
       "      <th>MT_l</th>\n",
       "      <th>Mll_l</th>\n",
       "      <th>DR_l</th>\n",
       "      <th>signal</th>\n",
       "    </tr>\n",
       "  </thead>\n",
       "  <tbody>\n",
       "    <tr>\n",
       "      <th>0</th>\n",
       "      <td>65299.171715</td>\n",
       "      <td>201210.741132</td>\n",
       "      <td>338359.647189</td>\n",
       "      <td>30273.746456</td>\n",
       "      <td>0.759542</td>\n",
       "      <td>1</td>\n",
       "    </tr>\n",
       "    <tr>\n",
       "      <th>1</th>\n",
       "      <td>2525.716244</td>\n",
       "      <td>163594.056266</td>\n",
       "      <td>274858.648137</td>\n",
       "      <td>26361.893831</td>\n",
       "      <td>1.595871</td>\n",
       "      <td>1</td>\n",
       "    </tr>\n",
       "    <tr>\n",
       "      <th>2</th>\n",
       "      <td>110692.955106</td>\n",
       "      <td>160849.766181</td>\n",
       "      <td>305866.052006</td>\n",
       "      <td>53241.048244</td>\n",
       "      <td>1.388918</td>\n",
       "      <td>1</td>\n",
       "    </tr>\n",
       "    <tr>\n",
       "      <th>3</th>\n",
       "      <td>46236.899841</td>\n",
       "      <td>62719.377616</td>\n",
       "      <td>207742.730676</td>\n",
       "      <td>84196.230640</td>\n",
       "      <td>2.788536</td>\n",
       "      <td>1</td>\n",
       "    </tr>\n",
       "    <tr>\n",
       "      <th>4</th>\n",
       "      <td>5894.687109</td>\n",
       "      <td>226188.219646</td>\n",
       "      <td>322604.193575</td>\n",
       "      <td>29723.250955</td>\n",
       "      <td>1.346386</td>\n",
       "      <td>1</td>\n",
       "    </tr>\n",
       "    <tr>\n",
       "      <th>...</th>\n",
       "      <td>...</td>\n",
       "      <td>...</td>\n",
       "      <td>...</td>\n",
       "      <td>...</td>\n",
       "      <td>...</td>\n",
       "      <td>...</td>\n",
       "    </tr>\n",
       "    <tr>\n",
       "      <th>9994</th>\n",
       "      <td>123001.700828</td>\n",
       "      <td>130402.358037</td>\n",
       "      <td>548514.897398</td>\n",
       "      <td>45540.245642</td>\n",
       "      <td>1.071288</td>\n",
       "      <td>1</td>\n",
       "    </tr>\n",
       "    <tr>\n",
       "      <th>9995</th>\n",
       "      <td>118828.517520</td>\n",
       "      <td>114975.334022</td>\n",
       "      <td>331713.171468</td>\n",
       "      <td>15560.209916</td>\n",
       "      <td>0.695260</td>\n",
       "      <td>1</td>\n",
       "    </tr>\n",
       "    <tr>\n",
       "      <th>9996</th>\n",
       "      <td>58068.665641</td>\n",
       "      <td>256875.354657</td>\n",
       "      <td>540045.710965</td>\n",
       "      <td>32657.484393</td>\n",
       "      <td>2.349249</td>\n",
       "      <td>1</td>\n",
       "    </tr>\n",
       "    <tr>\n",
       "      <th>9997</th>\n",
       "      <td>24089.269469</td>\n",
       "      <td>37761.324796</td>\n",
       "      <td>131637.487968</td>\n",
       "      <td>17202.068377</td>\n",
       "      <td>1.817892</td>\n",
       "      <td>1</td>\n",
       "    </tr>\n",
       "    <tr>\n",
       "      <th>9998</th>\n",
       "      <td>176909.823831</td>\n",
       "      <td>37885.791439</td>\n",
       "      <td>244772.123616</td>\n",
       "      <td>36339.498346</td>\n",
       "      <td>0.572295</td>\n",
       "      <td>1</td>\n",
       "    </tr>\n",
       "  </tbody>\n",
       "</table>\n",
       "<p>9999 rows × 6 columns</p>\n",
       "</div>"
      ],
      "text/plain": [
       "        lepton_pt_l          MET_l           MT_l         Mll_l      DR_l  \\\n",
       "0      65299.171715  201210.741132  338359.647189  30273.746456  0.759542   \n",
       "1       2525.716244  163594.056266  274858.648137  26361.893831  1.595871   \n",
       "2     110692.955106  160849.766181  305866.052006  53241.048244  1.388918   \n",
       "3      46236.899841   62719.377616  207742.730676  84196.230640  2.788536   \n",
       "4       5894.687109  226188.219646  322604.193575  29723.250955  1.346386   \n",
       "...             ...            ...            ...           ...       ...   \n",
       "9994  123001.700828  130402.358037  548514.897398  45540.245642  1.071288   \n",
       "9995  118828.517520  114975.334022  331713.171468  15560.209916  0.695260   \n",
       "9996   58068.665641  256875.354657  540045.710965  32657.484393  2.349249   \n",
       "9997   24089.269469   37761.324796  131637.487968  17202.068377  1.817892   \n",
       "9998  176909.823831   37885.791439  244772.123616  36339.498346  0.572295   \n",
       "\n",
       "      signal  \n",
       "0          1  \n",
       "1          1  \n",
       "2          1  \n",
       "3          1  \n",
       "4          1  \n",
       "...      ...  \n",
       "9994       1  \n",
       "9995       1  \n",
       "9996       1  \n",
       "9997       1  \n",
       "9998       1  \n",
       "\n",
       "[9999 rows x 6 columns]"
      ]
     },
     "execution_count": 6,
     "metadata": {},
     "output_type": "execute_result"
    }
   ],
   "source": [
    "df_sig[1]"
   ]
  },
  {
   "cell_type": "code",
   "execution_count": 7,
   "id": "502fd3be",
   "metadata": {},
   "outputs": [
    {
     "data": {
      "text/html": [
       "<div>\n",
       "<style scoped>\n",
       "    .dataframe tbody tr th:only-of-type {\n",
       "        vertical-align: middle;\n",
       "    }\n",
       "\n",
       "    .dataframe tbody tr th {\n",
       "        vertical-align: top;\n",
       "    }\n",
       "\n",
       "    .dataframe thead th {\n",
       "        text-align: right;\n",
       "    }\n",
       "</style>\n",
       "<table border=\"1\" class=\"dataframe\">\n",
       "  <thead>\n",
       "    <tr style=\"text-align: right;\">\n",
       "      <th></th>\n",
       "      <th>lepton_pt_l</th>\n",
       "      <th>MET_l</th>\n",
       "      <th>MT_l</th>\n",
       "      <th>Mll_l</th>\n",
       "      <th>DR_l</th>\n",
       "      <th>signal</th>\n",
       "    </tr>\n",
       "  </thead>\n",
       "  <tbody>\n",
       "    <tr>\n",
       "      <th>0</th>\n",
       "      <td>89385.132811</td>\n",
       "      <td>47048.428632</td>\n",
       "      <td>204693.402361</td>\n",
       "      <td>28133.704432</td>\n",
       "      <td>0.505121</td>\n",
       "      <td>1</td>\n",
       "    </tr>\n",
       "    <tr>\n",
       "      <th>1</th>\n",
       "      <td>39266.563992</td>\n",
       "      <td>376131.857547</td>\n",
       "      <td>551360.168347</td>\n",
       "      <td>58426.683865</td>\n",
       "      <td>2.468424</td>\n",
       "      <td>1</td>\n",
       "    </tr>\n",
       "    <tr>\n",
       "      <th>2</th>\n",
       "      <td>41520.835801</td>\n",
       "      <td>343732.815318</td>\n",
       "      <td>402135.529912</td>\n",
       "      <td>18283.467112</td>\n",
       "      <td>1.279741</td>\n",
       "      <td>1</td>\n",
       "    </tr>\n",
       "    <tr>\n",
       "      <th>3</th>\n",
       "      <td>52648.141097</td>\n",
       "      <td>85548.325291</td>\n",
       "      <td>176271.874340</td>\n",
       "      <td>42811.091811</td>\n",
       "      <td>1.495950</td>\n",
       "      <td>1</td>\n",
       "    </tr>\n",
       "    <tr>\n",
       "      <th>4</th>\n",
       "      <td>169400.360066</td>\n",
       "      <td>182709.258115</td>\n",
       "      <td>479179.275670</td>\n",
       "      <td>42811.091811</td>\n",
       "      <td>1.495950</td>\n",
       "      <td>1</td>\n",
       "    </tr>\n",
       "    <tr>\n",
       "      <th>...</th>\n",
       "      <td>...</td>\n",
       "      <td>...</td>\n",
       "      <td>...</td>\n",
       "      <td>...</td>\n",
       "      <td>...</td>\n",
       "      <td>...</td>\n",
       "    </tr>\n",
       "    <tr>\n",
       "      <th>9994</th>\n",
       "      <td>137057.882618</td>\n",
       "      <td>79010.004602</td>\n",
       "      <td>288784.559107</td>\n",
       "      <td>36507.536105</td>\n",
       "      <td>0.471225</td>\n",
       "      <td>1</td>\n",
       "    </tr>\n",
       "    <tr>\n",
       "      <th>9995</th>\n",
       "      <td>114521.290192</td>\n",
       "      <td>180261.118369</td>\n",
       "      <td>348540.587390</td>\n",
       "      <td>14606.636376</td>\n",
       "      <td>0.407965</td>\n",
       "      <td>1</td>\n",
       "    </tr>\n",
       "    <tr>\n",
       "      <th>9996</th>\n",
       "      <td>108709.093844</td>\n",
       "      <td>49125.167072</td>\n",
       "      <td>195770.810851</td>\n",
       "      <td>54609.789345</td>\n",
       "      <td>0.870096</td>\n",
       "      <td>1</td>\n",
       "    </tr>\n",
       "    <tr>\n",
       "      <th>9997</th>\n",
       "      <td>82580.679272</td>\n",
       "      <td>218751.888200</td>\n",
       "      <td>427431.639685</td>\n",
       "      <td>30458.755444</td>\n",
       "      <td>0.731679</td>\n",
       "      <td>1</td>\n",
       "    </tr>\n",
       "    <tr>\n",
       "      <th>9998</th>\n",
       "      <td>82580.679272</td>\n",
       "      <td>218751.888200</td>\n",
       "      <td>427431.639685</td>\n",
       "      <td>30458.755444</td>\n",
       "      <td>0.731679</td>\n",
       "      <td>1</td>\n",
       "    </tr>\n",
       "  </tbody>\n",
       "</table>\n",
       "<p>9999 rows × 6 columns</p>\n",
       "</div>"
      ],
      "text/plain": [
       "        lepton_pt_l          MET_l           MT_l         Mll_l      DR_l  \\\n",
       "0      89385.132811   47048.428632  204693.402361  28133.704432  0.505121   \n",
       "1      39266.563992  376131.857547  551360.168347  58426.683865  2.468424   \n",
       "2      41520.835801  343732.815318  402135.529912  18283.467112  1.279741   \n",
       "3      52648.141097   85548.325291  176271.874340  42811.091811  1.495950   \n",
       "4     169400.360066  182709.258115  479179.275670  42811.091811  1.495950   \n",
       "...             ...            ...            ...           ...       ...   \n",
       "9994  137057.882618   79010.004602  288784.559107  36507.536105  0.471225   \n",
       "9995  114521.290192  180261.118369  348540.587390  14606.636376  0.407965   \n",
       "9996  108709.093844   49125.167072  195770.810851  54609.789345  0.870096   \n",
       "9997   82580.679272  218751.888200  427431.639685  30458.755444  0.731679   \n",
       "9998   82580.679272  218751.888200  427431.639685  30458.755444  0.731679   \n",
       "\n",
       "      signal  \n",
       "0          1  \n",
       "1          1  \n",
       "2          1  \n",
       "3          1  \n",
       "4          1  \n",
       "...      ...  \n",
       "9994       1  \n",
       "9995       1  \n",
       "9996       1  \n",
       "9997       1  \n",
       "9998       1  \n",
       "\n",
       "[9999 rows x 6 columns]"
      ]
     },
     "execution_count": 7,
     "metadata": {},
     "output_type": "execute_result"
    }
   ],
   "source": [
    "df_sig[2]"
   ]
  },
  {
   "cell_type": "code",
   "execution_count": 8,
   "id": "37e2c806",
   "metadata": {},
   "outputs": [
    {
     "data": {
      "text/html": [
       "<div>\n",
       "<style scoped>\n",
       "    .dataframe tbody tr th:only-of-type {\n",
       "        vertical-align: middle;\n",
       "    }\n",
       "\n",
       "    .dataframe tbody tr th {\n",
       "        vertical-align: top;\n",
       "    }\n",
       "\n",
       "    .dataframe thead th {\n",
       "        text-align: right;\n",
       "    }\n",
       "</style>\n",
       "<table border=\"1\" class=\"dataframe\">\n",
       "  <thead>\n",
       "    <tr style=\"text-align: right;\">\n",
       "      <th></th>\n",
       "      <th>lepton_pt_l</th>\n",
       "      <th>MET_l</th>\n",
       "      <th>MT_l</th>\n",
       "      <th>Mll_l</th>\n",
       "      <th>DR_l</th>\n",
       "      <th>signal</th>\n",
       "    </tr>\n",
       "  </thead>\n",
       "  <tbody>\n",
       "    <tr>\n",
       "      <th>0</th>\n",
       "      <td>120326.067646</td>\n",
       "      <td>123768.832076</td>\n",
       "      <td>314970.450347</td>\n",
       "      <td>56695.567185</td>\n",
       "      <td>1.720359</td>\n",
       "      <td>1</td>\n",
       "    </tr>\n",
       "    <tr>\n",
       "      <th>1</th>\n",
       "      <td>60492.884939</td>\n",
       "      <td>163114.452533</td>\n",
       "      <td>309615.482133</td>\n",
       "      <td>56695.567185</td>\n",
       "      <td>1.720359</td>\n",
       "      <td>1</td>\n",
       "    </tr>\n",
       "    <tr>\n",
       "      <th>2</th>\n",
       "      <td>91953.997650</td>\n",
       "      <td>190778.456166</td>\n",
       "      <td>303759.822724</td>\n",
       "      <td>29129.130745</td>\n",
       "      <td>0.801793</td>\n",
       "      <td>1</td>\n",
       "    </tr>\n",
       "    <tr>\n",
       "      <th>3</th>\n",
       "      <td>42556.473045</td>\n",
       "      <td>78533.745330</td>\n",
       "      <td>166273.217822</td>\n",
       "      <td>35063.927202</td>\n",
       "      <td>1.204518</td>\n",
       "      <td>1</td>\n",
       "    </tr>\n",
       "    <tr>\n",
       "      <th>4</th>\n",
       "      <td>21348.086420</td>\n",
       "      <td>64799.181452</td>\n",
       "      <td>253581.309984</td>\n",
       "      <td>27478.120469</td>\n",
       "      <td>1.143946</td>\n",
       "      <td>1</td>\n",
       "    </tr>\n",
       "    <tr>\n",
       "      <th>...</th>\n",
       "      <td>...</td>\n",
       "      <td>...</td>\n",
       "      <td>...</td>\n",
       "      <td>...</td>\n",
       "      <td>...</td>\n",
       "      <td>...</td>\n",
       "    </tr>\n",
       "    <tr>\n",
       "      <th>9994</th>\n",
       "      <td>25328.886290</td>\n",
       "      <td>291772.423374</td>\n",
       "      <td>467284.753102</td>\n",
       "      <td>41898.564343</td>\n",
       "      <td>1.506551</td>\n",
       "      <td>1</td>\n",
       "    </tr>\n",
       "    <tr>\n",
       "      <th>9995</th>\n",
       "      <td>109969.551696</td>\n",
       "      <td>145219.672995</td>\n",
       "      <td>284711.443685</td>\n",
       "      <td>29929.827832</td>\n",
       "      <td>1.222148</td>\n",
       "      <td>1</td>\n",
       "    </tr>\n",
       "    <tr>\n",
       "      <th>9996</th>\n",
       "      <td>142098.802036</td>\n",
       "      <td>358186.262669</td>\n",
       "      <td>570409.703583</td>\n",
       "      <td>61077.053325</td>\n",
       "      <td>2.285710</td>\n",
       "      <td>1</td>\n",
       "    </tr>\n",
       "    <tr>\n",
       "      <th>9997</th>\n",
       "      <td>189385.471972</td>\n",
       "      <td>130948.174366</td>\n",
       "      <td>343290.720129</td>\n",
       "      <td>20113.619721</td>\n",
       "      <td>0.725889</td>\n",
       "      <td>1</td>\n",
       "    </tr>\n",
       "    <tr>\n",
       "      <th>9998</th>\n",
       "      <td>73236.905984</td>\n",
       "      <td>87242.125644</td>\n",
       "      <td>211506.563528</td>\n",
       "      <td>96628.199231</td>\n",
       "      <td>2.727379</td>\n",
       "      <td>1</td>\n",
       "    </tr>\n",
       "  </tbody>\n",
       "</table>\n",
       "<p>9999 rows × 6 columns</p>\n",
       "</div>"
      ],
      "text/plain": [
       "        lepton_pt_l          MET_l           MT_l         Mll_l      DR_l  \\\n",
       "0     120326.067646  123768.832076  314970.450347  56695.567185  1.720359   \n",
       "1      60492.884939  163114.452533  309615.482133  56695.567185  1.720359   \n",
       "2      91953.997650  190778.456166  303759.822724  29129.130745  0.801793   \n",
       "3      42556.473045   78533.745330  166273.217822  35063.927202  1.204518   \n",
       "4      21348.086420   64799.181452  253581.309984  27478.120469  1.143946   \n",
       "...             ...            ...            ...           ...       ...   \n",
       "9994   25328.886290  291772.423374  467284.753102  41898.564343  1.506551   \n",
       "9995  109969.551696  145219.672995  284711.443685  29929.827832  1.222148   \n",
       "9996  142098.802036  358186.262669  570409.703583  61077.053325  2.285710   \n",
       "9997  189385.471972  130948.174366  343290.720129  20113.619721  0.725889   \n",
       "9998   73236.905984   87242.125644  211506.563528  96628.199231  2.727379   \n",
       "\n",
       "      signal  \n",
       "0          1  \n",
       "1          1  \n",
       "2          1  \n",
       "3          1  \n",
       "4          1  \n",
       "...      ...  \n",
       "9994       1  \n",
       "9995       1  \n",
       "9996       1  \n",
       "9997       1  \n",
       "9998       1  \n",
       "\n",
       "[9999 rows x 6 columns]"
      ]
     },
     "execution_count": 8,
     "metadata": {},
     "output_type": "execute_result"
    }
   ],
   "source": [
    "df_sig[3]"
   ]
  },
  {
   "cell_type": "code",
   "execution_count": 9,
   "id": "32f0c239",
   "metadata": {},
   "outputs": [
    {
     "data": {
      "text/html": [
       "<div>\n",
       "<style scoped>\n",
       "    .dataframe tbody tr th:only-of-type {\n",
       "        vertical-align: middle;\n",
       "    }\n",
       "\n",
       "    .dataframe tbody tr th {\n",
       "        vertical-align: top;\n",
       "    }\n",
       "\n",
       "    .dataframe thead th {\n",
       "        text-align: right;\n",
       "    }\n",
       "</style>\n",
       "<table border=\"1\" class=\"dataframe\">\n",
       "  <thead>\n",
       "    <tr style=\"text-align: right;\">\n",
       "      <th></th>\n",
       "      <th>lepton_pt_l</th>\n",
       "      <th>MET_l</th>\n",
       "      <th>MT_l</th>\n",
       "      <th>Mll_l</th>\n",
       "      <th>DR_l</th>\n",
       "      <th>signal</th>\n",
       "    </tr>\n",
       "  </thead>\n",
       "  <tbody>\n",
       "    <tr>\n",
       "      <th>0</th>\n",
       "      <td>82568.080492</td>\n",
       "      <td>222335.313416</td>\n",
       "      <td>392398.185877</td>\n",
       "      <td>138961.138526</td>\n",
       "      <td>3.512380</td>\n",
       "      <td>1</td>\n",
       "    </tr>\n",
       "    <tr>\n",
       "      <th>1</th>\n",
       "      <td>65993.715142</td>\n",
       "      <td>53720.729103</td>\n",
       "      <td>327830.734792</td>\n",
       "      <td>101724.739473</td>\n",
       "      <td>2.788618</td>\n",
       "      <td>1</td>\n",
       "    </tr>\n",
       "    <tr>\n",
       "      <th>2</th>\n",
       "      <td>78314.725254</td>\n",
       "      <td>51696.596681</td>\n",
       "      <td>222847.985929</td>\n",
       "      <td>110113.330292</td>\n",
       "      <td>2.692625</td>\n",
       "      <td>1</td>\n",
       "    </tr>\n",
       "    <tr>\n",
       "      <th>3</th>\n",
       "      <td>78021.849821</td>\n",
       "      <td>251946.239305</td>\n",
       "      <td>489828.350552</td>\n",
       "      <td>141571.802756</td>\n",
       "      <td>3.266377</td>\n",
       "      <td>1</td>\n",
       "    </tr>\n",
       "    <tr>\n",
       "      <th>4</th>\n",
       "      <td>145304.623513</td>\n",
       "      <td>153227.432475</td>\n",
       "      <td>521118.500823</td>\n",
       "      <td>154690.897886</td>\n",
       "      <td>2.782095</td>\n",
       "      <td>1</td>\n",
       "    </tr>\n",
       "    <tr>\n",
       "      <th>...</th>\n",
       "      <td>...</td>\n",
       "      <td>...</td>\n",
       "      <td>...</td>\n",
       "      <td>...</td>\n",
       "      <td>...</td>\n",
       "      <td>...</td>\n",
       "    </tr>\n",
       "    <tr>\n",
       "      <th>9994</th>\n",
       "      <td>217631.569675</td>\n",
       "      <td>349421.898467</td>\n",
       "      <td>663621.128375</td>\n",
       "      <td>33637.496205</td>\n",
       "      <td>0.388775</td>\n",
       "      <td>1</td>\n",
       "    </tr>\n",
       "    <tr>\n",
       "      <th>9995</th>\n",
       "      <td>51916.729775</td>\n",
       "      <td>205875.831621</td>\n",
       "      <td>327626.868800</td>\n",
       "      <td>50539.511057</td>\n",
       "      <td>1.264141</td>\n",
       "      <td>1</td>\n",
       "    </tr>\n",
       "    <tr>\n",
       "      <th>9996</th>\n",
       "      <td>192696.488752</td>\n",
       "      <td>439820.786471</td>\n",
       "      <td>759427.360446</td>\n",
       "      <td>50539.511057</td>\n",
       "      <td>1.264141</td>\n",
       "      <td>1</td>\n",
       "    </tr>\n",
       "    <tr>\n",
       "      <th>9997</th>\n",
       "      <td>110513.106800</td>\n",
       "      <td>377024.624149</td>\n",
       "      <td>557494.655907</td>\n",
       "      <td>30239.059548</td>\n",
       "      <td>0.750863</td>\n",
       "      <td>1</td>\n",
       "    </tr>\n",
       "    <tr>\n",
       "      <th>9998</th>\n",
       "      <td>117844.478312</td>\n",
       "      <td>244703.872806</td>\n",
       "      <td>636809.168114</td>\n",
       "      <td>193883.693542</td>\n",
       "      <td>3.004862</td>\n",
       "      <td>1</td>\n",
       "    </tr>\n",
       "  </tbody>\n",
       "</table>\n",
       "<p>9999 rows × 6 columns</p>\n",
       "</div>"
      ],
      "text/plain": [
       "        lepton_pt_l          MET_l           MT_l          Mll_l      DR_l  \\\n",
       "0      82568.080492  222335.313416  392398.185877  138961.138526  3.512380   \n",
       "1      65993.715142   53720.729103  327830.734792  101724.739473  2.788618   \n",
       "2      78314.725254   51696.596681  222847.985929  110113.330292  2.692625   \n",
       "3      78021.849821  251946.239305  489828.350552  141571.802756  3.266377   \n",
       "4     145304.623513  153227.432475  521118.500823  154690.897886  2.782095   \n",
       "...             ...            ...            ...            ...       ...   \n",
       "9994  217631.569675  349421.898467  663621.128375   33637.496205  0.388775   \n",
       "9995   51916.729775  205875.831621  327626.868800   50539.511057  1.264141   \n",
       "9996  192696.488752  439820.786471  759427.360446   50539.511057  1.264141   \n",
       "9997  110513.106800  377024.624149  557494.655907   30239.059548  0.750863   \n",
       "9998  117844.478312  244703.872806  636809.168114  193883.693542  3.004862   \n",
       "\n",
       "      signal  \n",
       "0          1  \n",
       "1          1  \n",
       "2          1  \n",
       "3          1  \n",
       "4          1  \n",
       "...      ...  \n",
       "9994       1  \n",
       "9995       1  \n",
       "9996       1  \n",
       "9997       1  \n",
       "9998       1  \n",
       "\n",
       "[9999 rows x 6 columns]"
      ]
     },
     "execution_count": 9,
     "metadata": {},
     "output_type": "execute_result"
    }
   ],
   "source": [
    "df_sig[4]"
   ]
  },
  {
   "cell_type": "code",
   "execution_count": 10,
   "id": "682d0f88",
   "metadata": {},
   "outputs": [
    {
     "data": {
      "text/html": [
       "<div>\n",
       "<style scoped>\n",
       "    .dataframe tbody tr th:only-of-type {\n",
       "        vertical-align: middle;\n",
       "    }\n",
       "\n",
       "    .dataframe tbody tr th {\n",
       "        vertical-align: top;\n",
       "    }\n",
       "\n",
       "    .dataframe thead th {\n",
       "        text-align: right;\n",
       "    }\n",
       "</style>\n",
       "<table border=\"1\" class=\"dataframe\">\n",
       "  <thead>\n",
       "    <tr style=\"text-align: right;\">\n",
       "      <th></th>\n",
       "      <th>lepton_pt_l</th>\n",
       "      <th>MET_l</th>\n",
       "      <th>MT_l</th>\n",
       "      <th>Mll_l</th>\n",
       "      <th>DR_l</th>\n",
       "      <th>signal</th>\n",
       "    </tr>\n",
       "  </thead>\n",
       "  <tbody>\n",
       "    <tr>\n",
       "      <th>0</th>\n",
       "      <td>60397.163158</td>\n",
       "      <td>80650.155730</td>\n",
       "      <td>143345.864336</td>\n",
       "      <td>12.753173</td>\n",
       "      <td>0.023759</td>\n",
       "      <td>0</td>\n",
       "    </tr>\n",
       "    <tr>\n",
       "      <th>1</th>\n",
       "      <td>36158.808554</td>\n",
       "      <td>11138.107907</td>\n",
       "      <td>145604.343214</td>\n",
       "      <td>12.753173</td>\n",
       "      <td>0.023759</td>\n",
       "      <td>0</td>\n",
       "    </tr>\n",
       "    <tr>\n",
       "      <th>2</th>\n",
       "      <td>114820.789565</td>\n",
       "      <td>31730.719436</td>\n",
       "      <td>182756.715142</td>\n",
       "      <td>24427.829852</td>\n",
       "      <td>4.519953</td>\n",
       "      <td>0</td>\n",
       "    </tr>\n",
       "    <tr>\n",
       "      <th>3</th>\n",
       "      <td>5008.424333</td>\n",
       "      <td>101448.067016</td>\n",
       "      <td>154672.738458</td>\n",
       "      <td>13471.895051</td>\n",
       "      <td>4.736649</td>\n",
       "      <td>0</td>\n",
       "    </tr>\n",
       "    <tr>\n",
       "      <th>4</th>\n",
       "      <td>74283.912383</td>\n",
       "      <td>24368.822529</td>\n",
       "      <td>99698.087175</td>\n",
       "      <td>30.201797</td>\n",
       "      <td>0.238406</td>\n",
       "      <td>0</td>\n",
       "    </tr>\n",
       "    <tr>\n",
       "      <th>...</th>\n",
       "      <td>...</td>\n",
       "      <td>...</td>\n",
       "      <td>...</td>\n",
       "      <td>...</td>\n",
       "      <td>...</td>\n",
       "      <td>...</td>\n",
       "    </tr>\n",
       "    <tr>\n",
       "      <th>8020</th>\n",
       "      <td>84888.246979</td>\n",
       "      <td>20999.143602</td>\n",
       "      <td>138195.730944</td>\n",
       "      <td>41636.684741</td>\n",
       "      <td>1.773135</td>\n",
       "      <td>0</td>\n",
       "    </tr>\n",
       "    <tr>\n",
       "      <th>8021</th>\n",
       "      <td>99444.343420</td>\n",
       "      <td>33281.332649</td>\n",
       "      <td>213085.715589</td>\n",
       "      <td>41636.684741</td>\n",
       "      <td>1.773135</td>\n",
       "      <td>0</td>\n",
       "    </tr>\n",
       "    <tr>\n",
       "      <th>8022</th>\n",
       "      <td>39424.229783</td>\n",
       "      <td>75273.879691</td>\n",
       "      <td>130930.081247</td>\n",
       "      <td>21654.563164</td>\n",
       "      <td>2.662456</td>\n",
       "      <td>0</td>\n",
       "    </tr>\n",
       "    <tr>\n",
       "      <th>8023</th>\n",
       "      <td>53249.148378</td>\n",
       "      <td>16841.370746</td>\n",
       "      <td>139347.344656</td>\n",
       "      <td>21654.563164</td>\n",
       "      <td>2.662456</td>\n",
       "      <td>0</td>\n",
       "    </tr>\n",
       "    <tr>\n",
       "      <th>8024</th>\n",
       "      <td>53067.347399</td>\n",
       "      <td>144064.337655</td>\n",
       "      <td>199958.087592</td>\n",
       "      <td>4856.142559</td>\n",
       "      <td>0.963224</td>\n",
       "      <td>0</td>\n",
       "    </tr>\n",
       "  </tbody>\n",
       "</table>\n",
       "<p>8025 rows × 6 columns</p>\n",
       "</div>"
      ],
      "text/plain": [
       "        lepton_pt_l          MET_l           MT_l         Mll_l      DR_l  \\\n",
       "0      60397.163158   80650.155730  143345.864336     12.753173  0.023759   \n",
       "1      36158.808554   11138.107907  145604.343214     12.753173  0.023759   \n",
       "2     114820.789565   31730.719436  182756.715142  24427.829852  4.519953   \n",
       "3       5008.424333  101448.067016  154672.738458  13471.895051  4.736649   \n",
       "4      74283.912383   24368.822529   99698.087175     30.201797  0.238406   \n",
       "...             ...            ...            ...           ...       ...   \n",
       "8020   84888.246979   20999.143602  138195.730944  41636.684741  1.773135   \n",
       "8021   99444.343420   33281.332649  213085.715589  41636.684741  1.773135   \n",
       "8022   39424.229783   75273.879691  130930.081247  21654.563164  2.662456   \n",
       "8023   53249.148378   16841.370746  139347.344656  21654.563164  2.662456   \n",
       "8024   53067.347399  144064.337655  199958.087592   4856.142559  0.963224   \n",
       "\n",
       "      signal  \n",
       "0          0  \n",
       "1          0  \n",
       "2          0  \n",
       "3          0  \n",
       "4          0  \n",
       "...      ...  \n",
       "8020       0  \n",
       "8021       0  \n",
       "8022       0  \n",
       "8023       0  \n",
       "8024       0  \n",
       "\n",
       "[8025 rows x 6 columns]"
      ]
     },
     "execution_count": 10,
     "metadata": {},
     "output_type": "execute_result"
    }
   ],
   "source": [
    "#tagging bkg as 0\n",
    "df_bkg[\"signal\"] = 0\n",
    "df_bkg"
   ]
  },
  {
   "cell_type": "code",
   "execution_count": 23,
   "id": "6b7b9e40",
   "metadata": {},
   "outputs": [
    {
     "name": "stdout",
     "output_type": "stream",
     "text": [
      "500GeV\n",
      "lepton_pt_l\n"
     ]
    },
    {
     "data": {
      "image/png": "[encoded data removed]",
      "text/plain": [
       "<Figure size 432x288 with 1 Axes>"
      ]
     },
     "metadata": {
      "needs_background": "light"
     },
     "output_type": "display_data"
    },
    {
     "name": "stdout",
     "output_type": "stream",
     "text": [
      "MET_l\n"
     ]
    },
    {
     "data": {
      "image/png": "[encoded data removed]",
      "text/plain": [
       "<Figure size 432x288 with 1 Axes>"
      ]
     },
     "metadata": {
      "needs_background": "light"
     },
     "output_type": "display_data"
    },
    {
     "name": "stdout",
     "output_type": "stream",
     "text": [
      "MT_l\n"
     ]
    },
    {
     "data": {
      "image/png": "[encoded data removed]",
      "text/plain": [
       "<Figure size 432x288 with 1 Axes>"
      ]
     },
     "metadata": {
      "needs_background": "light"
     },
     "output_type": "display_data"
    },
    {
     "name": "stdout",
     "output_type": "stream",
     "text": [
      "Mll_l\n"
     ]
    },
    {
     "data": {
      "image/png": "[encoded data removed]",
      "text/plain": [
       "<Figure size 432x288 with 1 Axes>"
      ]
     },
     "metadata": {
      "needs_background": "light"
     },
     "output_type": "display_data"
    },
    {
     "name": "stdout",
     "output_type": "stream",
     "text": [
      "DR_l\n"
     ]
    },
    {
     "data": {
      "image/png": "[encoded data removed]",
      "text/plain": [
       "<Figure size 432x288 with 1 Axes>"
      ]
     },
     "metadata": {
      "needs_background": "light"
     },
     "output_type": "display_data"
    },
    {
     "name": "stdout",
     "output_type": "stream",
     "text": [
      "signal\n"
     ]
    },
    {
     "data": {
      "image/png": "[encoded data removed]",
      "text/plain": [
       "<Figure size 432x288 with 1 Axes>"
      ]
     },
     "metadata": {
      "needs_background": "light"
     },
     "output_type": "display_data"
    },
    {
     "name": "stdout",
     "output_type": "stream",
     "text": [
      "600GeV\n",
      "lepton_pt_l\n"
     ]
    },
    {
     "data": {
      "image/png": "[encoded data removed]",
      "text/plain": [
       "<Figure size 432x288 with 1 Axes>"
      ]
     },
     "metadata": {
      "needs_background": "light"
     },
     "output_type": "display_data"
    },
    {
     "name": "stdout",
     "output_type": "stream",
     "text": [
      "MET_l\n"
     ]
    },
    {
     "data": {
      "image/png": "[encoded data removed]",
      "text/plain": [
       "<Figure size 432x288 with 1 Axes>"
      ]
     },
     "metadata": {
      "needs_background": "light"
     },
     "output_type": "display_data"
    },
    {
     "name": "stdout",
     "output_type": "stream",
     "text": [
      "MT_l\n"
     ]
    },
    {
     "data": {
      "image/png": "[encoded data removed]",
      "text/plain": [
       "<Figure size 432x288 with 1 Axes>"
      ]
     },
     "metadata": {
      "needs_background": "light"
     },
     "output_type": "display_data"
    },
    {
     "name": "stdout",
     "output_type": "stream",
     "text": [
      "Mll_l\n"
     ]
    },
    {
     "data": {
      "image/png": "[encoded data removed]",
      "text/plain": [
       "<Figure size 432x288 with 1 Axes>"
      ]
     },
     "metadata": {
      "needs_background": "light"
     },
     "output_type": "display_data"
    },
    {
     "name": "stdout",
     "output_type": "stream",
     "text": [
      "DR_l\n"
     ]
    },
    {
     "data": {
      "image/png": "[encoded data removed]",
      "text/plain": [
       "<Figure size 432x288 with 1 Axes>"
      ]
     },
     "metadata": {
      "needs_background": "light"
     },
     "output_type": "display_data"
    },
    {
     "name": "stdout",
     "output_type": "stream",
     "text": [
      "signal\n"
     ]
    },
    {
     "data": {
      "image/png": "[encoded data removed]",
      "text/plain": [
       "<Figure size 432x288 with 1 Axes>"
      ]
     },
     "metadata": {
      "needs_background": "light"
     },
     "output_type": "display_data"
    },
    {
     "name": "stdout",
     "output_type": "stream",
     "text": [
      "700GeV\n",
      "lepton_pt_l\n"
     ]
    },
    {
     "data": {
      "image/png": "[encoded data removed]",
      "text/plain": [
       "<Figure size 432x288 with 1 Axes>"
      ]
     },
     "metadata": {
      "needs_background": "light"
     },
     "output_type": "display_data"
    },
    {
     "name": "stdout",
     "output_type": "stream",
     "text": [
      "MET_l\n"
     ]
    },
    {
     "data": {
      "image/png": "[encoded data removed]",
      "text/plain": [
       "<Figure size 432x288 with 1 Axes>"
      ]
     },
     "metadata": {
      "needs_background": "light"
     },
     "output_type": "display_data"
    },
    {
     "name": "stdout",
     "output_type": "stream",
     "text": [
      "MT_l\n"
     ]
    },
    {
     "data": {
      "image/png": "[encoded data removed]",
      "text/plain": [
       "<Figure size 432x288 with 1 Axes>"
      ]
     },
     "metadata": {
      "needs_background": "light"
     },
     "output_type": "display_data"
    },
    {
     "name": "stdout",
     "output_type": "stream",
     "text": [
      "Mll_l\n"
     ]
    },
    {
     "data": {
      "image/png": "[encoded data removed]",
      "text/plain": [
       "<Figure size 432x288 with 1 Axes>"
      ]
     },
     "metadata": {
      "needs_background": "light"
     },
     "output_type": "display_data"
    },
    {
     "name": "stdout",
     "output_type": "stream",
     "text": [
      "DR_l\n"
     ]
    },
    {
     "data": {
      "image/png": "[encoded data removed]",
      "text/plain": [
       "<Figure size 432x288 with 1 Axes>"
      ]
     },
     "metadata": {
      "needs_background": "light"
     },
     "output_type": "display_data"
    },
    {
     "name": "stdout",
     "output_type": "stream",
     "text": [
      "signal\n"
     ]
    },
    {
     "data": {
      "image/png": "[encoded data removed]",
      "text/plain": [
       "<Figure size 432x288 with 1 Axes>"
      ]
     },
     "metadata": {
      "needs_background": "light"
     },
     "output_type": "display_data"
    },
    {
     "name": "stdout",
     "output_type": "stream",
     "text": [
      "800GeV\n",
      "lepton_pt_l\n"
     ]
    },
    {
     "data": {
      "image/png": "[encoded data removed]",
      "text/plain": [
       "<Figure size 432x288 with 1 Axes>"
      ]
     },
     "metadata": {
      "needs_background": "light"
     },
     "output_type": "display_data"
    },
    {
     "name": "stdout",
     "output_type": "stream",
     "text": [
      "MET_l\n"
     ]
    },
    {
     "data": {
      "image/png": "[encoded data removed]",
      "text/plain": [
       "<Figure size 432x288 with 1 Axes>"
      ]
     },
     "metadata": {
      "needs_background": "light"
     },
     "output_type": "display_data"
    },
    {
     "name": "stdout",
     "output_type": "stream",
     "text": [
      "MT_l\n"
     ]
    },
    {
     "data": {
      "image/png": "[encoded data removed]",
      "text/plain": [
       "<Figure size 432x288 with 1 Axes>"
      ]
     },
     "metadata": {
      "needs_background": "light"
     },
     "output_type": "display_data"
    },
    {
     "name": "stdout",
     "output_type": "stream",
     "text": [
      "Mll_l\n"
     ]
    },
    {
     "data": {
      "image/png": "[encoded data removed]",
      "text/plain": [
       "<Figure size 432x288 with 1 Axes>"
      ]
     },
     "metadata": {
      "needs_background": "light"
     },
     "output_type": "display_data"
    },
    {
     "name": "stdout",
     "output_type": "stream",
     "text": [
      "DR_l\n"
     ]
    },
    {
     "data": {
      "image/png": "[encoded data removed]",
      "text/plain": [
       "<Figure size 432x288 with 1 Axes>"
      ]
     },
     "metadata": {
      "needs_background": "light"
     },
     "output_type": "display_data"
    },
    {
     "name": "stdout",
     "output_type": "stream",
     "text": [
      "signal\n"
     ]
    },
    {
     "data": {
      "image/png": "[encoded data removed]",
      "text/plain": [
       "<Figure size 432x288 with 1 Axes>"
      ]
     },
     "metadata": {
      "needs_background": "light"
     },
     "output_type": "display_data"
    },
    {
     "name": "stdout",
     "output_type": "stream",
     "text": [
      "1000GeV\n",
      "lepton_pt_l\n"
     ]
    },
    {
     "data": {
      "image/png": "[encoded data removed]",
      "text/plain": [
       "<Figure size 432x288 with 1 Axes>"
      ]
     },
     "metadata": {
      "needs_background": "light"
     },
     "output_type": "display_data"
    },
    {
     "name": "stdout",
     "output_type": "stream",
     "text": [
      "MET_l\n"
     ]
    },
    {
     "data": {
      "image/png": "[encoded data removed]",
      "text/plain": [
       "<Figure size 432x288 with 1 Axes>"
      ]
     },
     "metadata": {
      "needs_background": "light"
     },
     "output_type": "display_data"
    },
    {
     "name": "stdout",
     "output_type": "stream",
     "text": [
      "MT_l\n"
     ]
    },
    {
     "data": {
      "image/png": "[encoded data removed]",
      "text/plain": [
       "<Figure size 432x288 with 1 Axes>"
      ]
     },
     "metadata": {
      "needs_background": "light"
     },
     "output_type": "display_data"
    },
    {
     "name": "stdout",
     "output_type": "stream",
     "text": [
      "Mll_l\n"
     ]
    },
    {
     "data": {
      "image/png": "[encoded data removed]",
      "text/plain": [
       "<Figure size 432x288 with 1 Axes>"
      ]
     },
     "metadata": {
      "needs_background": "light"
     },
     "output_type": "display_data"
    },
    {
     "name": "stdout",
     "output_type": "stream",
     "text": [
      "DR_l\n"
     ]
    },
    {
     "data": {
      "image/png": "[encoded data removed]",
      "text/plain": [
       "<Figure size 432x288 with 1 Axes>"
      ]
     },
     "metadata": {
      "needs_background": "light"
     },
     "output_type": "display_data"
    },
    {
     "name": "stdout",
     "output_type": "stream",
     "text": [
      "signal\n"
     ]
    },
    {
     "data": {
      "image/png": "[encoded data removed]",
      "text/plain": [
       "<Figure size 432x288 with 1 Axes>"
      ]
     },
     "metadata": {
      "needs_background": "light"
     },
     "output_type": "display_data"
    }
   ],
   "source": [
    "#overlay signal and background for variables list\n",
    "for sig in range(len(df_sig)):\n",
    "    print(mass_points[sig])\n",
    "    for var in df_sig[sig].columns:\n",
    "        print(var)\n",
    "        plt.figure()\n",
    "        plt.hist(df_sig[sig][var],bins=\"auto\",histtype=\"step\", color=\"red\",label=\"signal\",stacked=True)\n",
    "        plt.hist(df_bkg[var],bins=\"auto\",histtype=\"step\", color=\"orange\",label=\"bkg\",stacked=True)\n",
    "        plt.legend(loc='upper right')\n",
    "        plt.show()"
   ]
  },
  {
   "cell_type": "code",
   "execution_count": 24,
   "id": "365e2435",
   "metadata": {},
   "outputs": [],
   "source": [
    "#standardize stuff function\n",
    "min_max_scaler = preprocessing.MinMaxScaler()\n",
    "\n",
    "def standardize_stuff(n):\n",
    "    return (n - n.min())/(n.max() - n.min())"
   ]
  },
  {
   "cell_type": "code",
   "execution_count": 25,
   "id": "f4dd2326",
   "metadata": {},
   "outputs": [
    {
     "name": "stdout",
     "output_type": "stream",
     "text": [
      "lepton_pt_l\n",
      "0        23705.536894\n",
      "1        41014.284850\n",
      "2        18543.266757\n",
      "3        49284.745269\n",
      "4       100246.022899\n",
      "            ...      \n",
      "9994     60091.355976\n",
      "9995     79635.441004\n",
      "9996    172202.407025\n",
      "9997     31152.013230\n",
      "9998     40649.856715\n",
      "Name: lepton_pt_l, Length: 9999, dtype: float64\n",
      "736.1638148312211\n",
      "436857.0330992711\n",
      "0       0.052667\n",
      "1       0.092355\n",
      "2       0.040831\n",
      "3       0.111319\n",
      "4       0.228170\n",
      "          ...   \n",
      "9994    0.136098\n",
      "9995    0.180911\n",
      "9996    0.393162\n",
      "9997    0.069742\n",
      "9998    0.091520\n",
      "Name: lepton_pt_l, Length: 9999, dtype: float64\n",
      "None\n",
      "MET_l\n",
      "0       113191.871427\n",
      "1       121224.054033\n",
      "2       105985.451523\n",
      "3       115638.399306\n",
      "4       172669.011572\n",
      "            ...      \n",
      "9994    109680.134250\n",
      "9995    103999.611290\n",
      "9996    232205.972976\n",
      "9997    216233.959987\n",
      "9998    119418.281218\n",
      "Name: MET_l, Length: 9999, dtype: float64\n",
      "521.0631889284834\n",
      "1124699.3134637366\n",
      "0       0.100225\n",
      "1       0.107370\n",
      "2       0.093815\n",
      "3       0.102401\n",
      "4       0.153132\n",
      "          ...   \n",
      "9994    0.097101\n",
      "9995    0.092048\n",
      "9996    0.206093\n",
      "9997    0.191885\n",
      "9998    0.105764\n",
      "Name: MET_l, Length: 9999, dtype: float64\n",
      "None\n",
      "MT_l\n",
      "0       155328.764799\n",
      "1       282198.480001\n",
      "2       164723.672466\n",
      "3       202431.506177\n",
      "4       402180.057783\n",
      "            ...      \n",
      "9994    192988.668279\n",
      "9995    230045.236893\n",
      "9996    592185.963077\n",
      "9997    403335.676123\n",
      "9998    217873.886474\n",
      "Name: MT_l, Length: 9999, dtype: float64\n",
      "35894.36297645672\n",
      "1296103.851646407\n",
      "0       0.094773\n",
      "1       0.195447\n",
      "2       0.102228\n",
      "3       0.132150\n",
      "4       0.290655\n",
      "          ...   \n",
      "9994    0.124657\n",
      "9995    0.154062\n",
      "9996    0.441428\n",
      "9997    0.291572\n",
      "9998    0.144404\n",
      "Name: MT_l, Length: 9999, dtype: float64\n",
      "None\n",
      "Mll_l\n",
      "0       18138.873636\n",
      "1       94255.149420\n",
      "2       48588.278891\n",
      "3       37271.078123\n",
      "4       37271.078123\n",
      "            ...     \n",
      "9994    38383.416250\n",
      "9995    30406.118928\n",
      "9996    24115.862732\n",
      "9997    22644.632360\n",
      "9998    25295.914083\n",
      "Name: Mll_l, Length: 9999, dtype: float64\n",
      "-29.824845482936784\n",
      "660066.591977575\n",
      "0       0.027524\n",
      "1       0.142835\n",
      "2       0.073653\n",
      "3       0.056508\n",
      "4       0.056508\n",
      "          ...   \n",
      "9994    0.058193\n",
      "9995    0.046108\n",
      "9996    0.036579\n",
      "9997    0.034350\n",
      "9998    0.038367\n",
      "Name: Mll_l, Length: 9999, dtype: float64\n",
      "None\n",
      "DR_l\n",
      "0       1.459376\n",
      "1       2.435094\n",
      "2       2.881728\n",
      "3       1.662717\n",
      "4       1.662717\n",
      "          ...   \n",
      "9994    1.345311\n",
      "9995    0.956707\n",
      "9996    0.519693\n",
      "9997    2.122411\n",
      "9998    0.918404\n",
      "Name: DR_l, Length: 9999, dtype: float64\n",
      "4.7118821590847945e-05\n",
      "6.150971443095994\n",
      "0       0.237254\n",
      "1       0.395883\n",
      "2       0.468496\n",
      "3       0.270312\n",
      "4       0.270312\n",
      "          ...   \n",
      "9994    0.218709\n",
      "9995    0.155531\n",
      "9996    0.084483\n",
      "9997    0.345048\n",
      "9998    0.149304\n",
      "Name: DR_l, Length: 9999, dtype: float64\n",
      "None\n",
      "signal\n"
     ]
    }
   ],
   "source": [
    "#standardize signal stuff\n",
    "series_list_500 = []\n",
    "for var in df_sig[0].columns:\n",
    "    print(var)\n",
    "    if var == \"signal\":\n",
    "        series_list_500.append(df_sig[0][var])\n",
    "        continue\n",
    "    #    if \"flavor\" or \"charge\" in var:\n",
    "    #        series_list.append(df_sig[var])\n",
    "    #        continue\n",
    "    print (df_sig[0][var])\n",
    "    print (df_sig[0][var].min())\n",
    "    print (df_sig[0][var].max())\n",
    "    print (standardize_stuff(df_sig[0][var]))\n",
    "    print (series_list_500.append((df_sig[0][var] - df_sig[0][var].min())/(df_sig[0][var].max() - df_sig[0][var].min())))\n",
    "\n",
    "df_norm_sig500 = pd.DataFrame(series_list_500).T"
   ]
  },
  {
   "cell_type": "code",
   "execution_count": 26,
   "id": "6890011c",
   "metadata": {},
   "outputs": [
    {
     "name": "stdout",
     "output_type": "stream",
     "text": [
      "lepton_pt_l\n",
      "0        65299.171715\n",
      "1         2525.716244\n",
      "2       110692.955106\n",
      "3        46236.899841\n",
      "4         5894.687109\n",
      "            ...      \n",
      "9994    123001.700828\n",
      "9995    118828.517520\n",
      "9996     58068.665641\n",
      "9997     24089.269469\n",
      "9998    176909.823831\n",
      "Name: lepton_pt_l, Length: 9999, dtype: float64\n",
      "424.6679898295934\n",
      "554018.5749824567\n",
      "0       0.117188\n",
      "1       0.003795\n",
      "2       0.199186\n",
      "3       0.082754\n",
      "4       0.009881\n",
      "          ...   \n",
      "9994    0.221420\n",
      "9995    0.213882\n",
      "9996    0.104127\n",
      "9997    0.042747\n",
      "9998    0.318799\n",
      "Name: lepton_pt_l, Length: 9999, dtype: float64\n",
      "None\n",
      "MET_l\n",
      "0       201210.741132\n",
      "1       163594.056266\n",
      "2       160849.766181\n",
      "3        62719.377616\n",
      "4       226188.219646\n",
      "            ...      \n",
      "9994    130402.358037\n",
      "9995    114975.334022\n",
      "9996    256875.354657\n",
      "9997     37761.324796\n",
      "9998     37885.791439\n",
      "Name: MET_l, Length: 9999, dtype: float64\n",
      "1255.4179090498144\n",
      "1135341.2961848094\n",
      "0       0.176314\n",
      "1       0.143145\n",
      "2       0.140725\n",
      "3       0.054197\n",
      "4       0.198338\n",
      "          ...   \n",
      "9994    0.113878\n",
      "9995    0.100275\n",
      "9996    0.225397\n",
      "9997    0.032190\n",
      "9998    0.032299\n",
      "Name: MET_l, Length: 9999, dtype: float64\n",
      "None\n",
      "MT_l\n",
      "0       338359.647189\n",
      "1       274858.648137\n",
      "2       305866.052006\n",
      "3       207742.730676\n",
      "4       322604.193575\n",
      "            ...      \n",
      "9994    548514.897398\n",
      "9995    331713.171468\n",
      "9996    540045.710965\n",
      "9997    131637.487968\n",
      "9998    244772.123616\n",
      "Name: MT_l, Length: 9999, dtype: float64\n",
      "49387.10564100461\n",
      "1403644.9089939438\n",
      "0       0.213381\n",
      "1       0.166491\n",
      "2       0.189387\n",
      "3       0.116932\n",
      "4       0.201747\n",
      "          ...   \n",
      "9994    0.368562\n",
      "9995    0.208473\n",
      "9996    0.362308\n",
      "9997    0.060735\n",
      "9998    0.144275\n",
      "Name: MT_l, Length: 9999, dtype: float64\n",
      "None\n",
      "Mll_l\n",
      "0       30273.746456\n",
      "1       26361.893831\n",
      "2       53241.048244\n",
      "3       84196.230640\n",
      "4       29723.250955\n",
      "            ...     \n",
      "9994    45540.245642\n",
      "9995    15560.209916\n",
      "9996    32657.484393\n",
      "9997    17202.068377\n",
      "9998    36339.498346\n",
      "Name: Mll_l, Length: 9999, dtype: float64\n",
      "-22.758459174321487\n",
      "629059.3692406465\n",
      "0       0.048160\n",
      "1       0.041942\n",
      "2       0.084669\n",
      "3       0.133876\n",
      "4       0.047285\n",
      "          ...   \n",
      "9994    0.072428\n",
      "9995    0.024771\n",
      "9996    0.051949\n",
      "9997    0.027381\n",
      "9998    0.057802\n",
      "Name: Mll_l, Length: 9999, dtype: float64\n",
      "None\n",
      "DR_l\n",
      "0       0.759542\n",
      "1       1.595871\n",
      "2       1.388918\n",
      "3       2.788536\n",
      "4       1.346386\n",
      "          ...   \n",
      "9994    1.071288\n",
      "9995    0.695260\n",
      "9996    2.349249\n",
      "9997    1.817892\n",
      "9998    0.572295\n",
      "Name: DR_l, Length: 9999, dtype: float64\n",
      "8.493701381340058e-05\n",
      "5.866249104106629\n",
      "0       0.129464\n",
      "1       0.272032\n",
      "2       0.236753\n",
      "3       0.475345\n",
      "4       0.229503\n",
      "          ...   \n",
      "9994    0.182607\n",
      "9995    0.118506\n",
      "9996    0.400460\n",
      "9997    0.309880\n",
      "9998    0.097544\n",
      "Name: DR_l, Length: 9999, dtype: float64\n",
      "None\n",
      "signal\n"
     ]
    }
   ],
   "source": [
    "#standardize signal stuff\n",
    "series_list_600 = []\n",
    "for var in df_sig[1].columns:\n",
    "    print(var)\n",
    "    if var == \"signal\":\n",
    "        series_list_600.append(df_sig[1][var])\n",
    "        continue\n",
    "    #    if \"flavor\" or \"charge\" in var:\n",
    "    #        series_list.append(df_sig[var])\n",
    "    #        continue\n",
    "    print (df_sig[1][var])\n",
    "    print (df_sig[1][var].min())\n",
    "    print (df_sig[1][var].max())\n",
    "    print (standardize_stuff(df_sig[1][var]))\n",
    "    print (series_list_600.append((df_sig[1][var] - df_sig[1][var].min())/(df_sig[1][var].max() - df_sig[1][var].min())))\n",
    "\n",
    "df_norm_sig600 = pd.DataFrame(series_list_600).T"
   ]
  },
  {
   "cell_type": "code",
   "execution_count": 27,
   "id": "1bdcfb8f",
   "metadata": {},
   "outputs": [
    {
     "name": "stdout",
     "output_type": "stream",
     "text": [
      "lepton_pt_l\n",
      "0        89385.132811\n",
      "1        39266.563992\n",
      "2        41520.835801\n",
      "3        52648.141097\n",
      "4       169400.360066\n",
      "            ...      \n",
      "9994    137057.882618\n",
      "9995    114521.290192\n",
      "9996    108709.093844\n",
      "9997     82580.679272\n",
      "9998     82580.679272\n",
      "Name: lepton_pt_l, Length: 9999, dtype: float64\n",
      "1021.662467151216\n",
      "548929.7632702023\n",
      "0       0.161274\n",
      "1       0.069802\n",
      "2       0.073916\n",
      "3       0.094225\n",
      "4       0.307312\n",
      "          ...   \n",
      "9994    0.248283\n",
      "9995    0.207151\n",
      "9996    0.196543\n",
      "9997    0.148855\n",
      "9998    0.148855\n",
      "Name: lepton_pt_l, Length: 9999, dtype: float64\n",
      "None\n",
      "MET_l\n",
      "0        47048.428632\n",
      "1       376131.857547\n",
      "2       343732.815318\n",
      "3        85548.325291\n",
      "4       182709.258115\n",
      "            ...      \n",
      "9994     79010.004602\n",
      "9995    180261.118369\n",
      "9996     49125.167072\n",
      "9997    218751.888200\n",
      "9998    218751.888200\n",
      "Name: MET_l, Length: 9999, dtype: float64\n",
      "1957.7396896027803\n",
      "1026148.5058308662\n",
      "0       0.044026\n",
      "1       0.365336\n",
      "2       0.333703\n",
      "3       0.081616\n",
      "4       0.176482\n",
      "          ...   \n",
      "9994    0.075232\n",
      "9995    0.174092\n",
      "9996    0.046053\n",
      "9997    0.211674\n",
      "9998    0.211674\n",
      "Name: MET_l, Length: 9999, dtype: float64\n",
      "None\n",
      "MT_l\n",
      "0       204693.402361\n",
      "1       551360.168347\n",
      "2       402135.529912\n",
      "3       176271.874340\n",
      "4       479179.275670\n",
      "            ...      \n",
      "9994    288784.559107\n",
      "9995    348540.587390\n",
      "9996    195770.810851\n",
      "9997    427431.639685\n",
      "9998    427431.639685\n",
      "Name: MT_l, Length: 9999, dtype: float64\n",
      "32954.39366485311\n",
      "1539753.8246331022\n",
      "0       0.113976\n",
      "1       0.344044\n",
      "2       0.245010\n",
      "3       0.095114\n",
      "4       0.296141\n",
      "          ...   \n",
      "9994    0.169784\n",
      "9995    0.209441\n",
      "9996    0.108054\n",
      "9997    0.261798\n",
      "9998    0.261798\n",
      "Name: MT_l, Length: 9999, dtype: float64\n",
      "None\n",
      "Mll_l\n",
      "0       28133.704432\n",
      "1       58426.683865\n",
      "2       18283.467112\n",
      "3       42811.091811\n",
      "4       42811.091811\n",
      "            ...     \n",
      "9994    36507.536105\n",
      "9995    14606.636376\n",
      "9996    54609.789345\n",
      "9997    30458.755444\n",
      "9998    30458.755444\n",
      "Name: Mll_l, Length: 9999, dtype: float64\n",
      "-8.846919917104106\n",
      "1293615.2877089418\n",
      "0       0.021755\n",
      "1       0.045172\n",
      "2       0.014140\n",
      "3       0.033101\n",
      "4       0.033101\n",
      "          ...   \n",
      "9994    0.028228\n",
      "9995    0.011298\n",
      "9996    0.042221\n",
      "9997    0.023552\n",
      "9998    0.023552\n",
      "Name: Mll_l, Length: 9999, dtype: float64\n",
      "None\n",
      "DR_l\n",
      "0       0.505121\n",
      "1       2.468424\n",
      "2       1.279741\n",
      "3       1.495950\n",
      "4       1.495950\n",
      "          ...   \n",
      "9994    0.471225\n",
      "9995    0.407965\n",
      "9996    0.870096\n",
      "9997    0.731679\n",
      "9998    0.731679\n",
      "Name: DR_l, Length: 9999, dtype: float64\n",
      "2.819284211217338e-05\n",
      "7.662116143811697\n",
      "0       0.065921\n",
      "1       0.322157\n",
      "2       0.167019\n",
      "3       0.195237\n",
      "4       0.195237\n",
      "          ...   \n",
      "9994    0.061497\n",
      "9995    0.053241\n",
      "9996    0.113555\n",
      "9997    0.095490\n",
      "9998    0.095490\n",
      "Name: DR_l, Length: 9999, dtype: float64\n",
      "None\n",
      "signal\n"
     ]
    }
   ],
   "source": [
    "#standardize signal stuff\n",
    "series_list_700 = []\n",
    "for var in df_sig[2].columns:\n",
    "    print(var)\n",
    "    if var == \"signal\":\n",
    "        series_list_700.append(df_sig[2][var])\n",
    "        continue\n",
    "    #    if \"flavor\" or \"charge\" in var:\n",
    "    #        series_list.append(df_sig[var])\n",
    "    #        continue\n",
    "    print (df_sig[2][var])\n",
    "    print (df_sig[2][var].min())\n",
    "    print (df_sig[2][var].max())\n",
    "    print (standardize_stuff(df_sig[2][var]))\n",
    "    print (series_list_700.append((df_sig[2][var] - df_sig[2][var].min())/(df_sig[2][var].max() - df_sig[2][var].min())))\n",
    "\n",
    "df_norm_sig700 = pd.DataFrame(series_list_700).T"
   ]
  },
  {
   "cell_type": "code",
   "execution_count": 28,
   "id": "04822bb1",
   "metadata": {},
   "outputs": [
    {
     "name": "stdout",
     "output_type": "stream",
     "text": [
      "lepton_pt_l\n",
      "0       120326.067646\n",
      "1        60492.884939\n",
      "2        91953.997650\n",
      "3        42556.473045\n",
      "4        21348.086420\n",
      "            ...      \n",
      "9994     25328.886290\n",
      "9995    109969.551696\n",
      "9996    142098.802036\n",
      "9997    189385.471972\n",
      "9998     73236.905984\n",
      "Name: lepton_pt_l, Length: 9999, dtype: float64\n",
      "2141.126580136904\n",
      "611433.0605786915\n",
      "0       0.193971\n",
      "1       0.095770\n",
      "2       0.147405\n",
      "3       0.066332\n",
      "4       0.031523\n",
      "          ...   \n",
      "9994    0.038057\n",
      "9995    0.176973\n",
      "9996    0.229705\n",
      "9997    0.307315\n",
      "9998    0.116686\n",
      "Name: lepton_pt_l, Length: 9999, dtype: float64\n",
      "None\n",
      "MET_l\n",
      "0       123768.832076\n",
      "1       163114.452533\n",
      "2       190778.456166\n",
      "3        78533.745330\n",
      "4        64799.181452\n",
      "            ...      \n",
      "9994    291772.423374\n",
      "9995    145219.672995\n",
      "9996    358186.262669\n",
      "9997    130948.174366\n",
      "9998     87242.125644\n",
      "Name: MET_l, Length: 9999, dtype: float64\n",
      "2769.5905435768286\n",
      "1137390.630067104\n",
      "0       0.106643\n",
      "1       0.141320\n",
      "2       0.165702\n",
      "3       0.066775\n",
      "4       0.054670\n",
      "          ...   \n",
      "9994    0.254713\n",
      "9995    0.125549\n",
      "9996    0.313247\n",
      "9997    0.112970\n",
      "9998    0.074450\n",
      "Name: MET_l, Length: 9999, dtype: float64\n",
      "None\n",
      "MT_l\n",
      "0       314970.450347\n",
      "1       309615.482133\n",
      "2       303759.822724\n",
      "3       166273.217822\n",
      "4       253581.309984\n",
      "            ...      \n",
      "9994    467284.753102\n",
      "9995    284711.443685\n",
      "9996    570409.703583\n",
      "9997    343290.720129\n",
      "9998    211506.563528\n",
      "Name: MT_l, Length: 9999, dtype: float64\n",
      "44361.67605746735\n",
      "1716837.9461396092\n",
      "0       0.161801\n",
      "1       0.158599\n",
      "2       0.155098\n",
      "3       0.072893\n",
      "4       0.125096\n",
      "          ...   \n",
      "9994    0.252872\n",
      "9995    0.143709\n",
      "9996    0.314532\n",
      "9997    0.178734\n",
      "9998    0.099939\n",
      "Name: MT_l, Length: 9999, dtype: float64\n",
      "None\n",
      "Mll_l\n",
      "0       56695.567185\n",
      "1       56695.567185\n",
      "2       29129.130745\n",
      "3       35063.927202\n",
      "4       27478.120469\n",
      "            ...     \n",
      "9994    41898.564343\n",
      "9995    29929.827832\n",
      "9996    61077.053325\n",
      "9997    20113.619721\n",
      "9998    96628.199231\n",
      "Name: Mll_l, Length: 9999, dtype: float64\n",
      "250.41355887805017\n",
      "848762.5203361902\n",
      "0       0.066523\n",
      "1       0.066523\n",
      "2       0.034035\n",
      "3       0.041029\n",
      "4       0.032089\n",
      "          ...   \n",
      "9994    0.049084\n",
      "9995    0.034978\n",
      "9996    0.071686\n",
      "9997    0.023409\n",
      "9998    0.113584\n",
      "Name: Mll_l, Length: 9999, dtype: float64\n",
      "None\n",
      "DR_l\n",
      "0       1.720359\n",
      "1       1.720359\n",
      "2       0.801793\n",
      "3       1.204518\n",
      "4       1.143946\n",
      "          ...   \n",
      "9994    1.506551\n",
      "9995    1.222148\n",
      "9996    2.285710\n",
      "9997    0.725889\n",
      "9998    2.727379\n",
      "Name: DR_l, Length: 9999, dtype: float64\n",
      "0.0061802342849092\n",
      "7.072292509531677\n",
      "0       0.242591\n",
      "1       0.242591\n",
      "2       0.112596\n",
      "3       0.169589\n",
      "4       0.161017\n",
      "          ...   \n",
      "9994    0.212333\n",
      "9995    0.172084\n",
      "9996    0.322600\n",
      "9997    0.101854\n",
      "9998    0.385106\n",
      "Name: DR_l, Length: 9999, dtype: float64\n",
      "None\n",
      "signal\n"
     ]
    }
   ],
   "source": [
    "#standardize signal stuff\n",
    "series_list_800 = []\n",
    "for var in df_sig[3].columns:\n",
    "    print(var)\n",
    "    if var == \"signal\":\n",
    "        series_list_800.append(df_sig[3][var])\n",
    "        continue\n",
    "    #    if \"flavor\" or \"charge\" in var:\n",
    "    #        series_list.append(df_sig[var])\n",
    "    #        continue\n",
    "    print (df_sig[3][var])\n",
    "    print (df_sig[3][var].min())\n",
    "    print (df_sig[3][var].max())\n",
    "    print (standardize_stuff(df_sig[3][var]))\n",
    "    print (series_list_800.append((df_sig[3][var] - df_sig[3][var].min())/(df_sig[3][var].max() - df_sig[3][var].min())))\n",
    "\n",
    "df_norm_sig800 = pd.DataFrame(series_list_800).T"
   ]
  },
  {
   "cell_type": "code",
   "execution_count": 37,
   "id": "90328622",
   "metadata": {},
   "outputs": [
    {
     "name": "stdout",
     "output_type": "stream",
     "text": [
      "lepton_pt_l\n",
      "0        82568.080492\n",
      "1        65993.715142\n",
      "2        78314.725254\n",
      "3        78021.849821\n",
      "4       145304.623513\n",
      "            ...      \n",
      "9994    217631.569675\n",
      "9995     51916.729775\n",
      "9996    192696.488752\n",
      "9997    110513.106800\n",
      "9998    117844.478312\n",
      "Name: lepton_pt_l, Length: 9999, dtype: float64\n",
      "841.6572093072219\n",
      "768469.4436506449\n",
      "0       0.106466\n",
      "1       0.084875\n",
      "2       0.100925\n",
      "3       0.100544\n",
      "4       0.188194\n",
      "          ...   \n",
      "9994    0.282415\n",
      "9995    0.066536\n",
      "9996    0.249932\n",
      "9997    0.142871\n",
      "9998    0.152421\n",
      "Name: lepton_pt_l, Length: 9999, dtype: float64\n",
      "None\n",
      "MET_l\n",
      "0       222335.313416\n",
      "1        53720.729103\n",
      "2        51696.596681\n",
      "3       251946.239305\n",
      "4       153227.432475\n",
      "            ...      \n",
      "9994    349421.898467\n",
      "9995    205875.831621\n",
      "9996    439820.786471\n",
      "9997    377024.624149\n",
      "9998    244703.872806\n",
      "Name: MET_l, Length: 9999, dtype: float64\n",
      "1209.7587068982896\n",
      "1088924.7392930517\n",
      "0       0.203294\n",
      "1       0.048276\n",
      "2       0.046416\n",
      "3       0.230517\n",
      "4       0.139759\n",
      "          ...   \n",
      "9994    0.320132\n",
      "9995    0.188161\n",
      "9996    0.403241\n",
      "9997    0.345509\n",
      "9998    0.223858\n",
      "Name: MET_l, Length: 9999, dtype: float64\n",
      "None\n",
      "MT_l\n",
      "0       392398.185877\n",
      "1       327830.734792\n",
      "2       222847.985929\n",
      "3       489828.350552\n",
      "4       521118.500823\n",
      "            ...      \n",
      "9994    663621.128375\n",
      "9995    327626.868800\n",
      "9996    759427.360446\n",
      "9997    557494.655907\n",
      "9998    636809.168114\n",
      "Name: MT_l, Length: 9999, dtype: float64\n",
      "38523.3487310842\n",
      "1790418.4882455263\n",
      "0       0.201995\n",
      "1       0.165140\n",
      "2       0.105214\n",
      "3       0.257610\n",
      "4       0.275470\n",
      "          ...   \n",
      "9994    0.356812\n",
      "9995    0.165023\n",
      "9996    0.411500\n",
      "9997    0.296234\n",
      "9998    0.341508\n",
      "Name: MT_l, Length: 9999, dtype: float64\n",
      "None\n",
      "Mll_l\n",
      "0       138961.138526\n",
      "1       101724.739473\n",
      "2       110113.330292\n",
      "3       141571.802756\n",
      "4       154690.897886\n",
      "            ...      \n",
      "9994     33637.496205\n",
      "9995     50539.511057\n",
      "9996     50539.511057\n",
      "9997     30239.059548\n",
      "9998    193883.693542\n",
      "Name: Mll_l, Length: 9999, dtype: float64\n",
      "32.231595665197155\n",
      "867888.9459604908\n",
      "0       0.160083\n",
      "1       0.117177\n",
      "2       0.126842\n",
      "3       0.163091\n",
      "4       0.178208\n",
      "          ...   \n",
      "9994    0.038722\n",
      "9995    0.058198\n",
      "9996    0.058198\n",
      "9997    0.034806\n",
      "9998    0.223368\n",
      "Name: Mll_l, Length: 9999, dtype: float64\n",
      "None\n",
      "DR_l\n",
      "0       3.512380\n",
      "1       2.788618\n",
      "2       2.692625\n",
      "3       3.266377\n",
      "4       2.782095\n",
      "          ...   \n",
      "9994    0.388775\n",
      "9995    1.264141\n",
      "9996    1.264141\n",
      "9997    0.750863\n",
      "9998    3.004862\n",
      "Name: DR_l, Length: 9999, dtype: float64\n",
      "0.0003506134537553\n",
      "6.653494109559593\n",
      "0       0.527875\n",
      "1       0.419090\n",
      "2       0.404662\n",
      "3       0.490900\n",
      "4       0.418110\n",
      "          ...   \n",
      "9994    0.058382\n",
      "9995    0.189954\n",
      "9996    0.189954\n",
      "9997    0.112806\n",
      "9998    0.451593\n",
      "Name: DR_l, Length: 9999, dtype: float64\n",
      "None\n",
      "signal\n"
     ]
    }
   ],
   "source": [
    "#standardize signal stuff\n",
    "series_list_1000 = []\n",
    "for var in df_sig[4].columns:\n",
    "    print(var)\n",
    "    if var == \"signal\":\n",
    "        series_list_1000.append(df_sig[4][var])\n",
    "        continue\n",
    "    #    if \"flavor\" or \"charge\" in var:\n",
    "    #        series_list.append(df_sig[var])\n",
    "    #        continue\n",
    "    print (df_sig[4][var])\n",
    "    print (df_sig[4][var].min())\n",
    "    print (df_sig[4][var].max())\n",
    "    print (standardize_stuff(df_sig[4][var]))\n",
    "    print (series_list_1000.append((df_sig[4][var] - df_sig[4][var].min())/(df_sig[4][var].max() - df_sig[4][var].min())))\n",
    "\n",
    "df_norm_sig1000 = pd.DataFrame(series_list_1000).T"
   ]
  },
  {
   "cell_type": "code",
   "execution_count": 38,
   "id": "2c58aad3",
   "metadata": {},
   "outputs": [
    {
     "name": "stdout",
     "output_type": "stream",
     "text": [
      "lepton_pt_l\n",
      "29.99718644350808\n",
      "316428.25396043976\n",
      "0       0.190795\n",
      "1       0.114188\n",
      "2       0.362805\n",
      "3       0.015735\n",
      "4       0.234685\n",
      "          ...   \n",
      "8020    0.268201\n",
      "8021    0.314206\n",
      "8022    0.124508\n",
      "8023    0.168203\n",
      "8024    0.167628\n",
      "Name: lepton_pt_l, Length: 8025, dtype: float64\n",
      "None\n",
      "MET_l\n",
      "1411.4916997033256\n",
      "589178.9336409008\n",
      "0       0.134813\n",
      "1       0.016548\n",
      "2       0.051584\n",
      "3       0.170198\n",
      "4       0.039059\n",
      "          ...   \n",
      "8020    0.033326\n",
      "8021    0.054222\n",
      "8022    0.125666\n",
      "8023    0.026252\n",
      "8024    0.242703\n",
      "Name: MET_l, Length: 8025, dtype: float64\n",
      "None\n",
      "MT_l\n",
      "12128.896906375754\n",
      "1371677.4651687972\n",
      "0       0.096515\n",
      "1       0.098176\n",
      "2       0.125503\n",
      "3       0.104846\n",
      "4       0.064410\n",
      "          ...   \n",
      "8020    0.092727\n",
      "8021    0.147811\n",
      "8022    0.087383\n",
      "8023    0.093574\n",
      "8024    0.138156\n",
      "Name: MT_l, Length: 8025, dtype: float64\n",
      "None\n",
      "Mll_l\n",
      "-239.33322956787808\n",
      "724883.3724167041\n",
      "0       0.000348\n",
      "1       0.000348\n",
      "2       0.034018\n",
      "3       0.018909\n",
      "4       0.000372\n",
      "          ...   \n",
      "8020    0.057750\n",
      "8021    0.057750\n",
      "8022    0.030193\n",
      "8023    0.030193\n",
      "8024    0.007027\n",
      "Name: Mll_l, Length: 8025, dtype: float64\n",
      "None\n",
      "DR_l\n",
      "2.854804600464677e-05\n",
      "13.29110668721692\n",
      "0       0.001785\n",
      "1       0.001785\n",
      "2       0.340072\n",
      "3       0.356376\n",
      "4       0.017935\n",
      "          ...   \n",
      "8020    0.133406\n",
      "8021    0.133406\n",
      "8022    0.200317\n",
      "8023    0.200317\n",
      "8024    0.072469\n",
      "Name: DR_l, Length: 8025, dtype: float64\n",
      "None\n",
      "signal\n"
     ]
    }
   ],
   "source": [
    "#standardize bkg stuff\n",
    "series_list_bkg = []\n",
    "for var in df_bkg.columns:\n",
    "    print(var)\n",
    "    if var == \"signal\":\n",
    "        series_list_bkg.append(df_bkg[var])\n",
    "        continue\n",
    "#    print (df_sig[var])\n",
    "    print(df_bkg[var].min())\n",
    "    print(df_bkg[var].max())\n",
    "    print (standardize_stuff(df_bkg[var]))\n",
    "    print (series_list_bkg.append((df_bkg[var] - df_bkg[var].min())/(df_bkg[var].max() - df_bkg[var].min())))\n",
    "\n",
    "df_norm_bkg = pd.DataFrame(series_list_bkg).T"
   ]
  },
  {
   "cell_type": "code",
   "execution_count": 39,
   "id": "03cb2aa0",
   "metadata": {
    "scrolled": true
   },
   "outputs": [
    {
     "data": {
      "text/html": [
       "<div>\n",
       "<style scoped>\n",
       "    .dataframe tbody tr th:only-of-type {\n",
       "        vertical-align: middle;\n",
       "    }\n",
       "\n",
       "    .dataframe tbody tr th {\n",
       "        vertical-align: top;\n",
       "    }\n",
       "\n",
       "    .dataframe thead th {\n",
       "        text-align: right;\n",
       "    }\n",
       "</style>\n",
       "<table border=\"1\" class=\"dataframe\">\n",
       "  <thead>\n",
       "    <tr style=\"text-align: right;\">\n",
       "      <th></th>\n",
       "      <th>lepton_pt_l</th>\n",
       "      <th>MET_l</th>\n",
       "      <th>MT_l</th>\n",
       "      <th>Mll_l</th>\n",
       "      <th>DR_l</th>\n",
       "      <th>signal</th>\n",
       "    </tr>\n",
       "  </thead>\n",
       "  <tbody>\n",
       "    <tr>\n",
       "      <th>0</th>\n",
       "      <td>0.190795</td>\n",
       "      <td>0.134813</td>\n",
       "      <td>0.096515</td>\n",
       "      <td>0.000348</td>\n",
       "      <td>0.001785</td>\n",
       "      <td>0.0</td>\n",
       "    </tr>\n",
       "    <tr>\n",
       "      <th>1</th>\n",
       "      <td>0.114188</td>\n",
       "      <td>0.016548</td>\n",
       "      <td>0.098176</td>\n",
       "      <td>0.000348</td>\n",
       "      <td>0.001785</td>\n",
       "      <td>0.0</td>\n",
       "    </tr>\n",
       "    <tr>\n",
       "      <th>2</th>\n",
       "      <td>0.362805</td>\n",
       "      <td>0.051584</td>\n",
       "      <td>0.125503</td>\n",
       "      <td>0.034018</td>\n",
       "      <td>0.340072</td>\n",
       "      <td>0.0</td>\n",
       "    </tr>\n",
       "    <tr>\n",
       "      <th>3</th>\n",
       "      <td>0.015735</td>\n",
       "      <td>0.170198</td>\n",
       "      <td>0.104846</td>\n",
       "      <td>0.018909</td>\n",
       "      <td>0.356376</td>\n",
       "      <td>0.0</td>\n",
       "    </tr>\n",
       "    <tr>\n",
       "      <th>4</th>\n",
       "      <td>0.234685</td>\n",
       "      <td>0.039059</td>\n",
       "      <td>0.064410</td>\n",
       "      <td>0.000372</td>\n",
       "      <td>0.017935</td>\n",
       "      <td>0.0</td>\n",
       "    </tr>\n",
       "    <tr>\n",
       "      <th>...</th>\n",
       "      <td>...</td>\n",
       "      <td>...</td>\n",
       "      <td>...</td>\n",
       "      <td>...</td>\n",
       "      <td>...</td>\n",
       "      <td>...</td>\n",
       "    </tr>\n",
       "    <tr>\n",
       "      <th>8020</th>\n",
       "      <td>0.268201</td>\n",
       "      <td>0.033326</td>\n",
       "      <td>0.092727</td>\n",
       "      <td>0.057750</td>\n",
       "      <td>0.133406</td>\n",
       "      <td>0.0</td>\n",
       "    </tr>\n",
       "    <tr>\n",
       "      <th>8021</th>\n",
       "      <td>0.314206</td>\n",
       "      <td>0.054222</td>\n",
       "      <td>0.147811</td>\n",
       "      <td>0.057750</td>\n",
       "      <td>0.133406</td>\n",
       "      <td>0.0</td>\n",
       "    </tr>\n",
       "    <tr>\n",
       "      <th>8022</th>\n",
       "      <td>0.124508</td>\n",
       "      <td>0.125666</td>\n",
       "      <td>0.087383</td>\n",
       "      <td>0.030193</td>\n",
       "      <td>0.200317</td>\n",
       "      <td>0.0</td>\n",
       "    </tr>\n",
       "    <tr>\n",
       "      <th>8023</th>\n",
       "      <td>0.168203</td>\n",
       "      <td>0.026252</td>\n",
       "      <td>0.093574</td>\n",
       "      <td>0.030193</td>\n",
       "      <td>0.200317</td>\n",
       "      <td>0.0</td>\n",
       "    </tr>\n",
       "    <tr>\n",
       "      <th>8024</th>\n",
       "      <td>0.167628</td>\n",
       "      <td>0.242703</td>\n",
       "      <td>0.138156</td>\n",
       "      <td>0.007027</td>\n",
       "      <td>0.072469</td>\n",
       "      <td>0.0</td>\n",
       "    </tr>\n",
       "  </tbody>\n",
       "</table>\n",
       "<p>8025 rows × 6 columns</p>\n",
       "</div>"
      ],
      "text/plain": [
       "      lepton_pt_l     MET_l      MT_l     Mll_l      DR_l  signal\n",
       "0        0.190795  0.134813  0.096515  0.000348  0.001785     0.0\n",
       "1        0.114188  0.016548  0.098176  0.000348  0.001785     0.0\n",
       "2        0.362805  0.051584  0.125503  0.034018  0.340072     0.0\n",
       "3        0.015735  0.170198  0.104846  0.018909  0.356376     0.0\n",
       "4        0.234685  0.039059  0.064410  0.000372  0.017935     0.0\n",
       "...           ...       ...       ...       ...       ...     ...\n",
       "8020     0.268201  0.033326  0.092727  0.057750  0.133406     0.0\n",
       "8021     0.314206  0.054222  0.147811  0.057750  0.133406     0.0\n",
       "8022     0.124508  0.125666  0.087383  0.030193  0.200317     0.0\n",
       "8023     0.168203  0.026252  0.093574  0.030193  0.200317     0.0\n",
       "8024     0.167628  0.242703  0.138156  0.007027  0.072469     0.0\n",
       "\n",
       "[8025 rows x 6 columns]"
      ]
     },
     "execution_count": 39,
     "metadata": {},
     "output_type": "execute_result"
    }
   ],
   "source": [
    "df_norm_bkg"
   ]
  },
  {
   "cell_type": "code",
   "execution_count": 40,
   "id": "f7f34a2f",
   "metadata": {},
   "outputs": [],
   "source": [
    "df_norm_sig = [df_norm_sig500,df_norm_sig600,df_norm_sig700,df_norm_sig800,df_norm_sig1000]"
   ]
  },
  {
   "cell_type": "code",
   "execution_count": 41,
   "id": "4316ced4",
   "metadata": {},
   "outputs": [
    {
     "name": "stdout",
     "output_type": "stream",
     "text": [
      "500GeV\n",
      "lepton_pt_l\n"
     ]
    },
    {
     "data": {
      "image/png": "[encoded data removed]",
      "text/plain": [
       "<Figure size 432x288 with 1 Axes>"
      ]
     },
     "metadata": {
      "needs_background": "light"
     },
     "output_type": "display_data"
    },
    {
     "name": "stdout",
     "output_type": "stream",
     "text": [
      "MET_l\n"
     ]
    },
    {
     "data": {
      "image/png": "[encoded data removed]",
      "text/plain": [
       "<Figure size 432x288 with 1 Axes>"
      ]
     },
     "metadata": {
      "needs_background": "light"
     },
     "output_type": "display_data"
    },
    {
     "name": "stdout",
     "output_type": "stream",
     "text": [
      "MT_l\n"
     ]
    },
    {
     "data": {
      "image/png": "[encoded data removed]",
      "text/plain": [
       "<Figure size 432x288 with 1 Axes>"
      ]
     },
     "metadata": {
      "needs_background": "light"
     },
     "output_type": "display_data"
    },
    {
     "name": "stdout",
     "output_type": "stream",
     "text": [
      "Mll_l\n"
     ]
    },
    {
     "data": {
      "image/png": "[encoded data removed]",
      "text/plain": [
       "<Figure size 432x288 with 1 Axes>"
      ]
     },
     "metadata": {
      "needs_background": "light"
     },
     "output_type": "display_data"
    },
    {
     "name": "stdout",
     "output_type": "stream",
     "text": [
      "DR_l\n"
     ]
    },
    {
     "data": {
      "image/png": "[encoded data removed]",
      "text/plain": [
       "<Figure size 432x288 with 1 Axes>"
      ]
     },
     "metadata": {
      "needs_background": "light"
     },
     "output_type": "display_data"
    },
    {
     "name": "stdout",
     "output_type": "stream",
     "text": [
      "signal\n"
     ]
    },
    {
     "data": {
      "image/png": "[encoded data removed]",
      "text/plain": [
       "<Figure size 432x288 with 1 Axes>"
      ]
     },
     "metadata": {
      "needs_background": "light"
     },
     "output_type": "display_data"
    },
    {
     "name": "stdout",
     "output_type": "stream",
     "text": [
      "600GeV\n",
      "lepton_pt_l\n"
     ]
    },
    {
     "data": {
      "image/png": "[encoded data removed]",
      "text/plain": [
       "<Figure size 432x288 with 1 Axes>"
      ]
     },
     "metadata": {
      "needs_background": "light"
     },
     "output_type": "display_data"
    },
    {
     "name": "stdout",
     "output_type": "stream",
     "text": [
      "MET_l\n"
     ]
    },
    {
     "data": {
      "image/png": "[encoded data removed]",
      "text/plain": [
       "<Figure size 432x288 with 1 Axes>"
      ]
     },
     "metadata": {
      "needs_background": "light"
     },
     "output_type": "display_data"
    },
    {
     "name": "stdout",
     "output_type": "stream",
     "text": [
      "MT_l\n"
     ]
    },
    {
     "data": {
      "image/png": "[encoded data removed]",
      "text/plain": [
       "<Figure size 432x288 with 1 Axes>"
      ]
     },
     "metadata": {
      "needs_background": "light"
     },
     "output_type": "display_data"
    },
    {
     "name": "stdout",
     "output_type": "stream",
     "text": [
      "Mll_l\n"
     ]
    },
    {
     "data": {
      "image/png": "[encoded data removed]",
      "text/plain": [
       "<Figure size 432x288 with 1 Axes>"
      ]
     },
     "metadata": {
      "needs_background": "light"
     },
     "output_type": "display_data"
    },
    {
     "name": "stdout",
     "output_type": "stream",
     "text": [
      "DR_l\n"
     ]
    },
    {
     "data": {
      "image/png": "[encoded data removed]",
      "text/plain": [
       "<Figure size 432x288 with 1 Axes>"
      ]
     },
     "metadata": {
      "needs_background": "light"
     },
     "output_type": "display_data"
    },
    {
     "name": "stdout",
     "output_type": "stream",
     "text": [
      "signal\n"
     ]
    },
    {
     "data": {
      "image/png": "[encoded data removed]",
      "text/plain": [
       "<Figure size 432x288 with 1 Axes>"
      ]
     },
     "metadata": {
      "needs_background": "light"
     },
     "output_type": "display_data"
    },
    {
     "name": "stdout",
     "output_type": "stream",
     "text": [
      "700GeV\n",
      "lepton_pt_l\n"
     ]
    },
    {
     "data": {
      "image/png": "[encoded data removed]",
      "text/plain": [
       "<Figure size 432x288 with 1 Axes>"
      ]
     },
     "metadata": {
      "needs_background": "light"
     },
     "output_type": "display_data"
    },
    {
     "name": "stdout",
     "output_type": "stream",
     "text": [
      "MET_l\n"
     ]
    },
    {
     "data": {
      "image/png": "[encoded data removed]",
      "text/plain": [
       "<Figure size 432x288 with 1 Axes>"
      ]
     },
     "metadata": {
      "needs_background": "light"
     },
     "output_type": "display_data"
    },
    {
     "name": "stdout",
     "output_type": "stream",
     "text": [
      "MT_l\n"
     ]
    },
    {
     "data": {
      "image/png": "[encoded data removed]",
      "text/plain": [
       "<Figure size 432x288 with 1 Axes>"
      ]
     },
     "metadata": {
      "needs_background": "light"
     },
     "output_type": "display_data"
    },
    {
     "name": "stdout",
     "output_type": "stream",
     "text": [
      "Mll_l\n"
     ]
    },
    {
     "data": {
      "image/png": "[encoded data removed]",
      "text/plain": [
       "<Figure size 432x288 with 1 Axes>"
      ]
     },
     "metadata": {
      "needs_background": "light"
     },
     "output_type": "display_data"
    },
    {
     "name": "stdout",
     "output_type": "stream",
     "text": [
      "DR_l\n"
     ]
    },
    {
     "data": {
      "image/png": "[encoded data removed]",
      "text/plain": [
       "<Figure size 432x288 with 1 Axes>"
      ]
     },
     "metadata": {
      "needs_background": "light"
     },
     "output_type": "display_data"
    },
    {
     "name": "stdout",
     "output_type": "stream",
     "text": [
      "signal\n"
     ]
    },
    {
     "data": {
      "image/png": "[encoded data removed]",
      "text/plain": [
       "<Figure size 432x288 with 1 Axes>"
      ]
     },
     "metadata": {
      "needs_background": "light"
     },
     "output_type": "display_data"
    },
    {
     "name": "stdout",
     "output_type": "stream",
     "text": [
      "800GeV\n",
      "lepton_pt_l\n"
     ]
    },
    {
     "data": {
      "image/png": "[encoded data removed]",
      "text/plain": [
       "<Figure size 432x288 with 1 Axes>"
      ]
     },
     "metadata": {
      "needs_background": "light"
     },
     "output_type": "display_data"
    },
    {
     "name": "stdout",
     "output_type": "stream",
     "text": [
      "MET_l\n"
     ]
    },
    {
     "data": {
      "image/png": "[encoded data removed]",
      "text/plain": [
       "<Figure size 432x288 with 1 Axes>"
      ]
     },
     "metadata": {
      "needs_background": "light"
     },
     "output_type": "display_data"
    },
    {
     "name": "stdout",
     "output_type": "stream",
     "text": [
      "MT_l\n"
     ]
    },
    {
     "data": {
      "image/png": "[encoded data removed]",
      "text/plain": [
       "<Figure size 432x288 with 1 Axes>"
      ]
     },
     "metadata": {
      "needs_background": "light"
     },
     "output_type": "display_data"
    },
    {
     "name": "stdout",
     "output_type": "stream",
     "text": [
      "Mll_l\n"
     ]
    },
    {
     "data": {
      "image/png": "[encoded data removed]",
      "text/plain": [
       "<Figure size 432x288 with 1 Axes>"
      ]
     },
     "metadata": {
      "needs_background": "light"
     },
     "output_type": "display_data"
    },
    {
     "name": "stdout",
     "output_type": "stream",
     "text": [
      "DR_l\n"
     ]
    },
    {
     "data": {
      "image/png": "[encoded data removed]",
      "text/plain": [
       "<Figure size 432x288 with 1 Axes>"
      ]
     },
     "metadata": {
      "needs_background": "light"
     },
     "output_type": "display_data"
    },
    {
     "name": "stdout",
     "output_type": "stream",
     "text": [
      "signal\n"
     ]
    },
    {
     "data": {
      "image/png": "[encoded data removed]",
      "text/plain": [
       "<Figure size 432x288 with 1 Axes>"
      ]
     },
     "metadata": {
      "needs_background": "light"
     },
     "output_type": "display_data"
    },
    {
     "name": "stdout",
     "output_type": "stream",
     "text": [
      "1000GeV\n",
      "lepton_pt_l\n"
     ]
    },
    {
     "data": {
      "image/png": "[encoded data removed]",
      "text/plain": [
       "<Figure size 432x288 with 1 Axes>"
      ]
     },
     "metadata": {
      "needs_background": "light"
     },
     "output_type": "display_data"
    },
    {
     "name": "stdout",
     "output_type": "stream",
     "text": [
      "MET_l\n"
     ]
    },
    {
     "data": {
      "image/png": "[encoded data removed]",
      "text/plain": [
       "<Figure size 432x288 with 1 Axes>"
      ]
     },
     "metadata": {
      "needs_background": "light"
     },
     "output_type": "display_data"
    },
    {
     "name": "stdout",
     "output_type": "stream",
     "text": [
      "MT_l\n"
     ]
    },
    {
     "data": {
      "image/png": "[encoded data removed]",
      "text/plain": [
       "<Figure size 432x288 with 1 Axes>"
      ]
     },
     "metadata": {
      "needs_background": "light"
     },
     "output_type": "display_data"
    },
    {
     "name": "stdout",
     "output_type": "stream",
     "text": [
      "Mll_l\n"
     ]
    },
    {
     "data": {
      "image/png": "[encoded data removed]",
      "text/plain": [
       "<Figure size 432x288 with 1 Axes>"
      ]
     },
     "metadata": {
      "needs_background": "light"
     },
     "output_type": "display_data"
    },
    {
     "name": "stdout",
     "output_type": "stream",
     "text": [
      "DR_l\n"
     ]
    },
    {
     "data": {
      "image/png": "[encoded data removed]",
      "text/plain": [
       "<Figure size 432x288 with 1 Axes>"
      ]
     },
     "metadata": {
      "needs_background": "light"
     },
     "output_type": "display_data"
    },
    {
     "name": "stdout",
     "output_type": "stream",
     "text": [
      "signal\n"
     ]
    },
    {
     "data": {
      "image/png": "[encoded data removed]",
      "text/plain": [
       "<Figure size 432x288 with 1 Axes>"
      ]
     },
     "metadata": {
      "needs_background": "light"
     },
     "output_type": "display_data"
    }
   ],
   "source": [
    "#Overlay standardized signal and bkg\n",
    "for sig in range(len(df_sig)):\n",
    "    print(mass_points[sig])\n",
    "    for var in df_sig[sig].columns:\n",
    "        print(var)\n",
    "        plt.figure()\n",
    "        plt.hist(df_norm_sig[sig][var],bins=\"auto\",histtype=\"step\", color=\"red\",label=\"signal\",stacked=True)\n",
    "        plt.hist(df_norm_bkg[var],bins=\"auto\",histtype=\"step\", color=\"orange\",label=\"bkg\",stacked=True)\n",
    "        plt.legend(loc='upper right')\n",
    "        plt.show()"
   ]
  },
  {
   "cell_type": "code",
   "execution_count": 42,
   "id": "e3c04bc3",
   "metadata": {},
   "outputs": [],
   "source": [
    "### Beginning of DT ###\n",
    "from sklearn import tree\n",
    "\n",
    "n_bkg = int(8026*80/100)\n",
    "n_sig = int(9999*80/100)\n",
    "\n",
    "df_train_500 = pd.concat([df_norm_sig[0].iloc[:n_sig],df_norm_bkg.iloc[:n_bkg]])\n",
    "df_test_500 =  pd.concat([df_norm_sig[0].iloc[n_sig:],df_norm_bkg.iloc[n_bkg:]])\n",
    "\n",
    "#shuffle rows\n",
    "df_train_500 = sklearn.utils.shuffle(df_train_500)\n",
    "df_test_500 = sklearn.utils.shuffle(df_test_500)\n",
    "\n",
    "#Reindex [0:n]\n",
    "x_train_500 = df_train_500[variable].reset_index(drop=True)\n",
    "y_train_500 = df_train_500[\"signal\"].reset_index(drop=True)\n",
    "\n",
    "x_test_500 = df_test_500[variable].reset_index(drop=True)\n",
    "y_test_500 = df_test_500[\"signal\"].reset_index(drop=True)"
   ]
  },
  {
   "cell_type": "code",
   "execution_count": 43,
   "id": "b1313a5d",
   "metadata": {},
   "outputs": [],
   "source": [
    "\n",
    "n_bkg = int(8026*80/100)\n",
    "n_sig = int(9999*80/100)\n",
    "\n",
    "df_train_600 = pd.concat([df_norm_sig[1].iloc[:n_sig],df_norm_bkg.iloc[:n_bkg]])\n",
    "df_test_600 =  pd.concat([df_norm_sig[1].iloc[n_sig:],df_norm_bkg.iloc[n_bkg:]])\n",
    "\n",
    "#shuffle rows\n",
    "df_train_600 = sklearn.utils.shuffle(df_train_600)\n",
    "df_test_600 = sklearn.utils.shuffle(df_test_600)\n",
    "\n",
    "#Reindex [0:n]\n",
    "x_train_600 = df_train_600[variable].reset_index(drop=True)\n",
    "y_train_600 = df_train_600[\"signal\"].reset_index(drop=True)\n",
    "\n",
    "x_test_600 = df_test_600[variable].reset_index(drop=True)\n",
    "y_test_600 = df_test_600[\"signal\"].reset_index(drop=True)"
   ]
  },
  {
   "cell_type": "code",
   "execution_count": 44,
   "id": "01ec9fc7",
   "metadata": {},
   "outputs": [],
   "source": [
    "#using 80% of the (signal + bkg) data for training and the rest for test\n",
    "\n",
    "n_bkg = int(8026*80/100)\n",
    "n_sig = int(9999*80/100)\n",
    "\n",
    "df_train_700 = pd.concat([df_norm_sig[2].iloc[:n_sig],df_norm_bkg.iloc[:n_bkg]])\n",
    "df_test_700 =  pd.concat([df_norm_sig[2].iloc[n_sig:],df_norm_bkg.iloc[n_bkg:]])\n",
    "\n",
    "#shuffle rows\n",
    "df_train_700 = sklearn.utils.shuffle(df_train_700)\n",
    "df_test_700 = sklearn.utils.shuffle(df_test_700)\n",
    "\n",
    "#Reindex [0:n]\n",
    "x_train_700 = df_train_700[variable].reset_index(drop=True)\n",
    "y_train_700 = df_train_700[\"signal\"].reset_index(drop=True)\n",
    "\n",
    "x_test_700 = df_test_700[variable].reset_index(drop=True)\n",
    "y_test_700 = df_test_700[\"signal\"].reset_index(drop=True)"
   ]
  },
  {
   "cell_type": "code",
   "execution_count": 45,
   "id": "38dc581a",
   "metadata": {},
   "outputs": [],
   "source": [
    "#using 80% of the (signal + bkg) data for training and the rest for test\n",
    "\n",
    "n_bkg = int(8026*80/100)\n",
    "n_sig = int(9999*80/100)\n",
    "\n",
    "df_train_800 = pd.concat([df_norm_sig[3].iloc[:n_sig],df_norm_bkg.iloc[:n_bkg]])\n",
    "df_test_800 =  pd.concat([df_norm_sig[3].iloc[n_sig:],df_norm_bkg.iloc[n_bkg:]])\n",
    "\n",
    "#shuffle rows\n",
    "df_train_800 = sklearn.utils.shuffle(df_train_800)\n",
    "df_test_800 = sklearn.utils.shuffle(df_test_800)\n",
    "\n",
    "#Reindex [0:n]\n",
    "x_train_800 = df_train_800[variable].reset_index(drop=True)\n",
    "y_train_800 = df_train_800[\"signal\"].reset_index(drop=True)\n",
    "\n",
    "x_test_800 = df_test_800[variable].reset_index(drop=True)\n",
    "y_test_800 = df_test_800[\"signal\"].reset_index(drop=True)"
   ]
  },
  {
   "cell_type": "code",
   "execution_count": 46,
   "id": "a3590427",
   "metadata": {},
   "outputs": [],
   "source": [
    "#using 80% of the (signal + bkg) data for training and the rest for test\n",
    "\n",
    "n_bkg = int(8026*80/100)\n",
    "n_sig = int(9999*80/100)\n",
    "\n",
    "df_train_1000 = pd.concat([df_norm_sig[4].iloc[:n_sig],df_norm_bkg.iloc[:n_bkg]])\n",
    "df_test_1000 =  pd.concat([df_norm_sig[4].iloc[n_sig:],df_norm_bkg.iloc[n_bkg:]])\n",
    "\n",
    "#shuffle rows\n",
    "df_train_1000 = sklearn.utils.shuffle(df_train_1000)\n",
    "df_test_1000 = sklearn.utils.shuffle(df_test_1000)\n",
    "\n",
    "#Reindex [0:n]\n",
    "x_train_1000 = df_train_1000[variable].reset_index(drop=True)\n",
    "y_train_1000 = df_train_1000[\"signal\"].reset_index(drop=True)\n",
    "\n",
    "x_test_1000 = df_test_1000[variable].reset_index(drop=True)\n",
    "y_test_1000 = df_test_1000[\"signal\"].reset_index(drop=True)"
   ]
  },
  {
   "cell_type": "code",
   "execution_count": 47,
   "id": "871aba43",
   "metadata": {},
   "outputs": [],
   "source": [
    "df_train = [df_train_500,df_train_600,df_train_700,df_train_800,df_train_1000]\n",
    "df_test = [df_test_500,df_test_600,df_test_700,df_test_800,df_test_1000]\n",
    "x_train = [x_train_500,x_train_600,x_train_700,x_train_800,x_train_1000]\n",
    "y_train = [y_train_500,y_train_600,y_train_700,y_train_800,y_train_1000]\n",
    "x_test = [x_test_500,x_test_600,x_test_700,x_test_800,x_test_1000]\n",
    "y_test = [y_test_500,y_test_600,y_test_700,y_test_800,y_test_1000]"
   ]
  },
  {
   "cell_type": "code",
   "execution_count": 48,
   "id": "18df0dee",
   "metadata": {},
   "outputs": [],
   "source": [
    "from sklearn import tree\n",
    "tree_model_500 = tree.DecisionTreeClassifier()\n",
    "tree_model_500 = tree_model_500.fit(x_train[0],y_train[0])"
   ]
  },
  {
   "cell_type": "code",
   "execution_count": 49,
   "id": "7f7120e1",
   "metadata": {},
   "outputs": [],
   "source": [
    "from sklearn import tree\n",
    "tree_model_600 = tree.DecisionTreeClassifier()\n",
    "tree_model_600 = tree_model_600.fit(x_train[1],y_train[1])"
   ]
  },
  {
   "cell_type": "code",
   "execution_count": 50,
   "id": "ba9a9428",
   "metadata": {},
   "outputs": [],
   "source": [
    "from sklearn import tree\n",
    "tree_model_700 = tree.DecisionTreeClassifier()\n",
    "tree_model_700 = tree_model_700.fit(x_train[2],y_train[2])"
   ]
  },
  {
   "cell_type": "code",
   "execution_count": 51,
   "id": "83a1bac9",
   "metadata": {},
   "outputs": [],
   "source": [
    "from sklearn import tree\n",
    "tree_model_800 = tree.DecisionTreeClassifier()\n",
    "tree_model_800 = tree_model_800.fit(x_train[3],y_train[3])"
   ]
  },
  {
   "cell_type": "code",
   "execution_count": 54,
   "id": "1880244b",
   "metadata": {},
   "outputs": [],
   "source": [
    "from sklearn import tree\n",
    "tree_model_1000 = tree.DecisionTreeClassifier()\n",
    "tree_model_1000 = tree_model_1000.fit(x_train[4],y_train[4])"
   ]
  },
  {
   "cell_type": "code",
   "execution_count": 55,
   "id": "1f8536d4",
   "metadata": {},
   "outputs": [],
   "source": [
    "from sklearn.metrics import auc\n",
    "from sklearn.metrics import roc_curve\n",
    "y_predict_tree_500 = tree_model_500.predict(x_test[0])\n",
    "fpr_500,tpr_500,t_500 = roc_curve(y_test[0],y_predict_tree_500)\n",
    "auc_tree_500 = auc(fpr_500,tpr_500)"
   ]
  },
  {
   "cell_type": "code",
   "execution_count": 56,
   "id": "835577fe",
   "metadata": {},
   "outputs": [],
   "source": [
    "\n",
    "y_predict_tree_600 = tree_model_600.predict(x_test[1])\n",
    "fpr_600,tpr_600,t_600 = roc_curve(y_test[1],y_predict_tree_600)\n",
    "auc_tree_600 = auc(fpr_600,tpr_600)"
   ]
  },
  {
   "cell_type": "code",
   "execution_count": 57,
   "id": "0088312a",
   "metadata": {},
   "outputs": [],
   "source": [
    "\n",
    "y_predict_tree_700 = tree_model_700.predict(x_test[2])\n",
    "fpr_700,tpr_700,t_700 = roc_curve(y_test[2],y_predict_tree_700)\n",
    "auc_tree_700 = auc(fpr_700,tpr_700)"
   ]
  },
  {
   "cell_type": "code",
   "execution_count": 58,
   "id": "3599eae4",
   "metadata": {},
   "outputs": [],
   "source": [
    "\n",
    "y_predict_tree_800 = tree_model_800.predict(x_test[3])\n",
    "fpr_800,tpr_800,t_800 = roc_curve(y_test[3],y_predict_tree_800)\n",
    "auc_tree_800 = auc(fpr_800,tpr_800)"
   ]
  },
  {
   "cell_type": "code",
   "execution_count": 59,
   "id": "b6b562f9",
   "metadata": {},
   "outputs": [],
   "source": [
    "y_predict_tree_1000 = tree_model_1000.predict(x_test[4])\n",
    "fpr_1000,tpr_1000,t_1000 = roc_curve(y_test[4],y_predict_tree_1000)\n",
    "auc_tree_1000 = auc(fpr_1000,tpr_1000)"
   ]
  },
  {
   "cell_type": "code",
   "execution_count": 60,
   "id": "deef8081",
   "metadata": {},
   "outputs": [
    {
     "name": "stdout",
     "output_type": "stream",
     "text": [
      "500GeV\n",
      "0       1.0\n",
      "1       0.0\n",
      "2       0.0\n",
      "3       1.0\n",
      "4       0.0\n",
      "       ... \n",
      "3600    0.0\n",
      "3601    0.0\n",
      "3602    0.0\n",
      "3603    1.0\n",
      "3604    0.0\n",
      "Name: signal, Length: 3605, dtype: float64\n",
      "600GeV\n",
      "0       0.0\n",
      "1       1.0\n",
      "2       1.0\n",
      "3       1.0\n",
      "4       1.0\n",
      "       ... \n",
      "3600    0.0\n",
      "3601    0.0\n",
      "3602    0.0\n",
      "3603    1.0\n",
      "3604    1.0\n",
      "Name: signal, Length: 3605, dtype: float64\n",
      "700GeV\n",
      "0       1.0\n",
      "1       1.0\n",
      "2       0.0\n",
      "3       0.0\n",
      "4       0.0\n",
      "       ... \n",
      "3600    0.0\n",
      "3601    0.0\n",
      "3602    0.0\n",
      "3603    0.0\n",
      "3604    0.0\n",
      "Name: signal, Length: 3605, dtype: float64\n",
      "800GeV\n",
      "0       0.0\n",
      "1       0.0\n",
      "2       0.0\n",
      "3       1.0\n",
      "4       1.0\n",
      "       ... \n",
      "3600    1.0\n",
      "3601    1.0\n",
      "3602    1.0\n",
      "3603    1.0\n",
      "3604    0.0\n",
      "Name: signal, Length: 3605, dtype: float64\n",
      "1000GeV\n",
      "0       1.0\n",
      "1       0.0\n",
      "2       1.0\n",
      "3       1.0\n",
      "4       1.0\n",
      "       ... \n",
      "3600    1.0\n",
      "3601    1.0\n",
      "3602    1.0\n",
      "3603    1.0\n",
      "3604    0.0\n",
      "Name: signal, Length: 3605, dtype: float64\n"
     ]
    }
   ],
   "source": [
    "for y in range(len(y_test)):\n",
    "    print(mass_points[y])\n",
    "    print(y_test[y])"
   ]
  },
  {
   "cell_type": "code",
   "execution_count": 63,
   "id": "257eb4f4",
   "metadata": {},
   "outputs": [
    {
     "name": "stdout",
     "output_type": "stream",
     "text": [
      "500GeV\n"
     ]
    },
    {
     "data": {
      "image/png": "[encoded data removed]",
      "text/plain": [
       "<Figure size 432x288 with 1 Axes>"
      ]
     },
     "metadata": {
      "needs_background": "light"
     },
     "output_type": "display_data"
    }
   ],
   "source": [
    "plt.figure()\n",
    "print(mass_points[0])\n",
    "plt.plot(fpr_500, tpr_500, label='Tree (area = {:.3f})'.format(auc_tree_500))\n",
    "plt.xlabel('False positive rate')\n",
    "plt.ylabel('True positive rate')\n",
    "plt.title('ROC curve')\n",
    "plt.legend(loc='best')\n",
    "plt.show()"
   ]
  },
  {
   "cell_type": "code",
   "execution_count": 64,
   "id": "8454f886",
   "metadata": {},
   "outputs": [
    {
     "name": "stdout",
     "output_type": "stream",
     "text": [
      "600GeV\n"
     ]
    },
    {
     "data": {
      "image/png": "[encoded data removed]",
      "text/plain": [
       "<Figure size 432x288 with 1 Axes>"
      ]
     },
     "metadata": {
      "needs_background": "light"
     },
     "output_type": "display_data"
    }
   ],
   "source": [
    "plt.figure()\n",
    "print(mass_points[1])\n",
    "plt.plot(fpr_600, tpr_600, label='Tree (area = {:.3f})'.format(auc_tree_600))\n",
    "plt.xlabel('False positive rate')\n",
    "plt.ylabel('True positive rate')\n",
    "plt.title('ROC curve')\n",
    "plt.legend(loc='best')\n",
    "plt.show()"
   ]
  },
  {
   "cell_type": "code",
   "execution_count": 65,
   "id": "71293d4c",
   "metadata": {},
   "outputs": [
    {
     "name": "stdout",
     "output_type": "stream",
     "text": [
      "700GeV\n"
     ]
    },
    {
     "data": {
      "image/png": "[encoded data removed]",
      "text/plain": [
       "<Figure size 432x288 with 1 Axes>"
      ]
     },
     "metadata": {
      "needs_background": "light"
     },
     "output_type": "display_data"
    }
   ],
   "source": [
    "plt.figure()\n",
    "print(mass_points[2])\n",
    "plt.plot(fpr_700, tpr_700, label='Tree (area = {:.3f})'.format(auc_tree_700))\n",
    "plt.xlabel('False positive rate')\n",
    "plt.ylabel('True positive rate')\n",
    "plt.title('ROC curve')\n",
    "plt.legend(loc='best')\n",
    "plt.show()"
   ]
  },
  {
   "cell_type": "code",
   "execution_count": 66,
   "id": "fffd7a04",
   "metadata": {},
   "outputs": [
    {
     "name": "stdout",
     "output_type": "stream",
     "text": [
      "800GeV\n"
     ]
    },
    {
     "data": {
      "image/png": "[encoded data removed]",
      "text/plain": [
       "<Figure size 432x288 with 1 Axes>"
      ]
     },
     "metadata": {
      "needs_background": "light"
     },
     "output_type": "display_data"
    }
   ],
   "source": [
    "plt.figure()\n",
    "print(mass_points[3])\n",
    "plt.plot(fpr_800, tpr_800, label='Tree (area = {:.3f})'.format(auc_tree_800))\n",
    "plt.xlabel('False positive rate')\n",
    "plt.ylabel('True positive rate')\n",
    "plt.title('ROC curve')\n",
    "plt.legend(loc='best')\n",
    "plt.show()"
   ]
  },
  {
   "cell_type": "code",
   "execution_count": 67,
   "id": "fb9c3dff",
   "metadata": {},
   "outputs": [
    {
     "name": "stdout",
     "output_type": "stream",
     "text": [
      "1000GeV\n"
     ]
    },
    {
     "data": {
      "image/png": "[encoded data removed]",
      "text/plain": [
       "<Figure size 432x288 with 1 Axes>"
      ]
     },
     "metadata": {
      "needs_background": "light"
     },
     "output_type": "display_data"
    }
   ],
   "source": [
    "plt.figure()\n",
    "print(mass_points[4])\n",
    "plt.plot(fpr_1000, tpr_1000, label='Tree (area = {:.3f})'.format(auc_tree_1000))\n",
    "plt.xlabel('False positive rate')\n",
    "plt.ylabel('True positive rate')\n",
    "plt.title('ROC curve')\n",
    "plt.legend(loc='best')\n",
    "plt.show()"
   ]
  },
  {
   "cell_type": "code",
   "execution_count": 70,
   "id": "bc9f5faf",
   "metadata": {},
   "outputs": [],
   "source": [
    "auc_tree = [auc_tree_500,auc_tree_600,auc_tree_700,auc_tree_800,auc_tree_1000]"
   ]
  },
  {
   "cell_type": "code",
   "execution_count": 71,
   "id": "474c4ee7",
   "metadata": {},
   "outputs": [
    {
     "data": {
      "text/html": [
       "<div>\n",
       "<style scoped>\n",
       "    .dataframe tbody tr th:only-of-type {\n",
       "        vertical-align: middle;\n",
       "    }\n",
       "\n",
       "    .dataframe tbody tr th {\n",
       "        vertical-align: top;\n",
       "    }\n",
       "\n",
       "    .dataframe thead th {\n",
       "        text-align: right;\n",
       "    }\n",
       "</style>\n",
       "<table border=\"1\" class=\"dataframe\">\n",
       "  <thead>\n",
       "    <tr style=\"text-align: right;\">\n",
       "      <th></th>\n",
       "      <th>mass_{H+}</th>\n",
       "      <th>area</th>\n",
       "    </tr>\n",
       "  </thead>\n",
       "  <tbody>\n",
       "    <tr>\n",
       "      <th>0</th>\n",
       "      <td>500GeV</td>\n",
       "      <td>0.863041</td>\n",
       "    </tr>\n",
       "    <tr>\n",
       "      <th>1</th>\n",
       "      <td>600GeV</td>\n",
       "      <td>0.855253</td>\n",
       "    </tr>\n",
       "    <tr>\n",
       "      <th>2</th>\n",
       "      <td>700GeV</td>\n",
       "      <td>0.857622</td>\n",
       "    </tr>\n",
       "    <tr>\n",
       "      <th>3</th>\n",
       "      <td>800GeV</td>\n",
       "      <td>0.837280</td>\n",
       "    </tr>\n",
       "    <tr>\n",
       "      <th>4</th>\n",
       "      <td>1000GeV</td>\n",
       "      <td>0.865422</td>\n",
       "    </tr>\n",
       "  </tbody>\n",
       "</table>\n",
       "</div>"
      ],
      "text/plain": [
       "  mass_{H+}      area\n",
       "0    500GeV  0.863041\n",
       "1    600GeV  0.855253\n",
       "2    700GeV  0.857622\n",
       "3    800GeV  0.837280\n",
       "4   1000GeV  0.865422"
      ]
     },
     "execution_count": 71,
     "metadata": {},
     "output_type": "execute_result"
    }
   ],
   "source": [
    "area_table_dt = pd.DataFrame({'mass_{H+}':mass_points,\n",
    "                          'area':auc_tree})\n",
    "area_table_dt"
   ]
  },
  {
   "cell_type": "code",
   "execution_count": 17,
   "id": "649971e8",
   "metadata": {},
   "outputs": [],
   "source": [
    "#I guess a BDT below"
   ]
  },
  {
   "cell_type": "code",
   "execution_count": 73,
   "id": "8b4577fd",
   "metadata": {},
   "outputs": [
    {
     "data": {
      "text/plain": [
       "0.9045769764216366"
      ]
     },
     "execution_count": 73,
     "metadata": {},
     "output_type": "execute_result"
    }
   ],
   "source": [
    "#from https://scikit-learn.org/stable/modules/ensemble.html#gradient-tree-boosting\n",
    "from sklearn.ensemble import GradientBoostingClassifier\n",
    "\n",
    "GDC_500 = GradientBoostingClassifier(n_estimators=500, learning_rate=0.6,\n",
    "                                 max_depth=5, random_state=0).fit(x_train[0], y_train[0])\n",
    "GDC_500.score(x_test[0],y_test[0])"
   ]
  },
  {
   "cell_type": "code",
   "execution_count": 74,
   "id": "c6fd576d",
   "metadata": {},
   "outputs": [
    {
     "data": {
      "text/plain": [
       "0.897364771151179"
      ]
     },
     "execution_count": 74,
     "metadata": {},
     "output_type": "execute_result"
    }
   ],
   "source": [
    "\n",
    "GDC_600 = GradientBoostingClassifier(n_estimators=500, learning_rate=0.6,\n",
    "                                 max_depth=5, random_state=0).fit(x_train[1], y_train[1])\n",
    "GDC_600.score(x_test[1],y_test[1])"
   ]
  },
  {
   "cell_type": "code",
   "execution_count": 75,
   "id": "8218409b",
   "metadata": {},
   "outputs": [
    {
     "data": {
      "text/plain": [
       "0.9054091539528433"
      ]
     },
     "execution_count": 75,
     "metadata": {},
     "output_type": "execute_result"
    }
   ],
   "source": [
    "\n",
    "GDC_700 = GradientBoostingClassifier(n_estimators=500, learning_rate=0.6,\n",
    "                                 max_depth=5, random_state=0).fit(x_train[2], y_train[2])\n",
    "GDC_700.score(x_test[2],y_test[2])"
   ]
  },
  {
   "cell_type": "code",
   "execution_count": 76,
   "id": "919f7db4",
   "metadata": {},
   "outputs": [
    {
     "data": {
      "text/plain": [
       "0.8859916782246879"
      ]
     },
     "execution_count": 76,
     "metadata": {},
     "output_type": "execute_result"
    }
   ],
   "source": [
    "\n",
    "GDC_800 = GradientBoostingClassifier(n_estimators=500, learning_rate=0.6,\n",
    "                                 max_depth=5, random_state=0).fit(x_train[3], y_train[3])\n",
    "GDC_800.score(x_test[3],y_test[3])"
   ]
  },
  {
   "cell_type": "code",
   "execution_count": 77,
   "id": "bb856e45",
   "metadata": {},
   "outputs": [
    {
     "data": {
      "text/plain": [
       "0.9092926490984743"
      ]
     },
     "execution_count": 77,
     "metadata": {},
     "output_type": "execute_result"
    }
   ],
   "source": [
    "\n",
    "GDC_1000 = GradientBoostingClassifier(n_estimators=500, learning_rate=0.6,\n",
    "                                 max_depth=5, random_state=0).fit(x_train[4], y_train[4])\n",
    "GDC_1000.score(x_test[4],y_test[4])"
   ]
  },
  {
   "cell_type": "code",
   "execution_count": 79,
   "id": "d389bea2",
   "metadata": {},
   "outputs": [
    {
     "data": {
      "image/png": "[encoded data removed]",
      "text/plain": [
       "<Figure size 432x288 with 1 Axes>"
      ]
     },
     "metadata": {
      "needs_background": "light"
     },
     "output_type": "display_data"
    }
   ],
   "source": [
    "y_predict_gdc_500 = GDC_500.predict_proba(x_test[0])[:,1]\n",
    "fpr_gdc_500,tpr_gdc_500,t_500 = roc_curve(y_test[0],y_predict_gdc_500)\n",
    "auc_gdc_500 = auc(fpr_gdc_500,tpr_gdc_500)\n",
    "\n",
    "plt.figure()\n",
    "\n",
    "plt.plot(fpr_gdc_500, tpr_gdc_500, label=' GDC Tree (area = {:.3f})'.format(auc_gdc_500))\n",
    "plt.xlabel('False positive rate')\n",
    "plt.ylabel('True positive rate')\n",
    "plt.title('ROC curve')\n",
    "plt.legend(loc='best')\n",
    "plt.show()"
   ]
  },
  {
   "cell_type": "code",
   "execution_count": 80,
   "id": "214d44fa",
   "metadata": {},
   "outputs": [
    {
     "data": {
      "image/png": "[encoded data removed]",
      "text/plain": [
       "<Figure size 432x288 with 1 Axes>"
      ]
     },
     "metadata": {
      "needs_background": "light"
     },
     "output_type": "display_data"
    }
   ],
   "source": [
    "y_predict_gdc_600 = GDC_600.predict_proba(x_test[1])[:,1]\n",
    "fpr_gdc_600,tpr_gdc_600,t_600 = roc_curve(y_test[1],y_predict_gdc_600)\n",
    "auc_gdc_600 = auc(fpr_gdc_600,tpr_gdc_600)\n",
    "\n",
    "plt.figure()\n",
    "\n",
    "plt.plot(fpr_gdc_600, tpr_gdc_600, label=' GDC Tree (area = {:.3f})'.format(auc_gdc_600))\n",
    "plt.xlabel('False positive rate')\n",
    "plt.ylabel('True positive rate')\n",
    "plt.title('ROC curve')\n",
    "plt.legend(loc='best')\n",
    "plt.show()"
   ]
  },
  {
   "cell_type": "code",
   "execution_count": 82,
   "id": "af5b41c4",
   "metadata": {},
   "outputs": [
    {
     "data": {
      "image/png": "[encoded data removed]",
      "text/plain": [
       "<Figure size 432x288 with 1 Axes>"
      ]
     },
     "metadata": {
      "needs_background": "light"
     },
     "output_type": "display_data"
    }
   ],
   "source": [
    "y_predict_gdc_700 = GDC_700.predict_proba(x_test[2])[:,1]\n",
    "fpr_gdc_700,tpr_gdc_700,t_700 = roc_curve(y_test[2],y_predict_gdc_700)\n",
    "auc_gdc_700 = auc(fpr_gdc_700,tpr_gdc_700)\n",
    "\n",
    "plt.figure()\n",
    "\n",
    "plt.plot(fpr_gdc_700, tpr_gdc_700, label=' GDC Tree (area = {:.3f})'.format(auc_gdc_700))\n",
    "plt.xlabel('False positive rate')\n",
    "plt.ylabel('True positive rate')\n",
    "plt.title('ROC curve')\n",
    "plt.legend(loc='best')\n",
    "plt.show()"
   ]
  },
  {
   "cell_type": "code",
   "execution_count": 83,
   "id": "03a42c26",
   "metadata": {},
   "outputs": [
    {
     "data": {
      "image/png": "[encoded data removed]",
      "text/plain": [
       "<Figure size 432x288 with 1 Axes>"
      ]
     },
     "metadata": {
      "needs_background": "light"
     },
     "output_type": "display_data"
    }
   ],
   "source": [
    "y_predict_gdc_800 = GDC_800.predict_proba(x_test[3])[:,1]\n",
    "fpr_gdc_800,tpr_gdc_800,t_800 = roc_curve(y_test[3],y_predict_gdc_800)\n",
    "auc_gdc_800 = auc(fpr_gdc_800,tpr_gdc_800)\n",
    "\n",
    "plt.figure()\n",
    "\n",
    "plt.plot(fpr_gdc_800, tpr_gdc_800, label=' GDC Tree (area = {:.3f})'.format(auc_gdc_800))\n",
    "plt.xlabel('False positive rate')\n",
    "plt.ylabel('True positive rate')\n",
    "plt.title('ROC curve')\n",
    "plt.legend(loc='best')\n",
    "plt.show()"
   ]
  },
  {
   "cell_type": "code",
   "execution_count": 84,
   "id": "f4de0f32",
   "metadata": {
    "scrolled": true
   },
   "outputs": [
    {
     "data": {
      "image/png": "[encoded data removed]",
      "text/plain": [
       "<Figure size 432x288 with 1 Axes>"
      ]
     },
     "metadata": {
      "needs_background": "light"
     },
     "output_type": "display_data"
    }
   ],
   "source": [
    "y_predict_gdc_1000 = GDC_1000.predict_proba(x_test[4])[:,1]\n",
    "fpr_gdc_1000,tpr_gdc_1000,t_1000 = roc_curve(y_test[4],y_predict_gdc_1000)\n",
    "auc_gdc_1000 = auc(fpr_gdc_1000,tpr_gdc_1000)\n",
    "\n",
    "plt.figure()\n",
    "\n",
    "plt.plot(fpr_gdc_1000, tpr_gdc_1000, label=' GDC Tree (area = {:.3f})'.format(auc_gdc_1000))\n",
    "plt.xlabel('False positive rate')\n",
    "plt.ylabel('True positive rate')\n",
    "plt.title('ROC curve')\n",
    "plt.legend(loc='best')\n",
    "plt.show()"
   ]
  },
  {
   "cell_type": "code",
   "execution_count": 88,
   "id": "38a13e9a",
   "metadata": {},
   "outputs": [],
   "source": [
    "auc_gdc = [auc_gdc_500,auc_gdc_600,auc_gdc_700,auc_gdc_800,auc_gdc_1000]"
   ]
  },
  {
   "cell_type": "code",
   "execution_count": 89,
   "id": "c8ec2bcb",
   "metadata": {},
   "outputs": [
    {
     "data": {
      "text/html": [
       "<div>\n",
       "<style scoped>\n",
       "    .dataframe tbody tr th:only-of-type {\n",
       "        vertical-align: middle;\n",
       "    }\n",
       "\n",
       "    .dataframe tbody tr th {\n",
       "        vertical-align: top;\n",
       "    }\n",
       "\n",
       "    .dataframe thead th {\n",
       "        text-align: right;\n",
       "    }\n",
       "</style>\n",
       "<table border=\"1\" class=\"dataframe\">\n",
       "  <thead>\n",
       "    <tr style=\"text-align: right;\">\n",
       "      <th></th>\n",
       "      <th>mass_{H+}</th>\n",
       "      <th>area</th>\n",
       "    </tr>\n",
       "  </thead>\n",
       "  <tbody>\n",
       "    <tr>\n",
       "      <th>0</th>\n",
       "      <td>500GeV</td>\n",
       "      <td>0.953803</td>\n",
       "    </tr>\n",
       "    <tr>\n",
       "      <th>1</th>\n",
       "      <td>600GeV</td>\n",
       "      <td>0.949067</td>\n",
       "    </tr>\n",
       "    <tr>\n",
       "      <th>2</th>\n",
       "      <td>700GeV</td>\n",
       "      <td>0.957406</td>\n",
       "    </tr>\n",
       "    <tr>\n",
       "      <th>3</th>\n",
       "      <td>800GeV</td>\n",
       "      <td>0.946918</td>\n",
       "    </tr>\n",
       "    <tr>\n",
       "      <th>4</th>\n",
       "      <td>1000GeV</td>\n",
       "      <td>0.958160</td>\n",
       "    </tr>\n",
       "  </tbody>\n",
       "</table>\n",
       "</div>"
      ],
      "text/plain": [
       "  mass_{H+}      area\n",
       "0    500GeV  0.953803\n",
       "1    600GeV  0.949067\n",
       "2    700GeV  0.957406\n",
       "3    800GeV  0.946918\n",
       "4   1000GeV  0.958160"
      ]
     },
     "execution_count": 89,
     "metadata": {},
     "output_type": "execute_result"
    }
   ],
   "source": [
    "area_table_gdc = pd.DataFrame({'mass_{H+}':mass_points,\n",
    "                          'area':auc_gdc})\n",
    "area_table_gdc"
   ]
  },
  {
   "cell_type": "code",
   "execution_count": 20,
   "id": "172497b9",
   "metadata": {},
   "outputs": [],
   "source": [
    "#classifiers for extra trees - assuming 2 bdt's working in parallel but no idea otherwise"
   ]
  },
  {
   "cell_type": "code",
   "execution_count": 21,
   "id": "0ad1c754",
   "metadata": {},
   "outputs": [],
   "source": [
    "from sklearn.ensemble import ExtraTreesClassifier \n",
    "\n",
    "tree_2 = ExtraTreesClassifier(verbose=1,n_estimators=50)"
   ]
  },
  {
   "cell_type": "code",
   "execution_count": 22,
   "id": "cea66132",
   "metadata": {},
   "outputs": [
    {
     "name": "stderr",
     "output_type": "stream",
     "text": [
      "[Parallel(n_jobs=1)]: Using backend SequentialBackend with 1 concurrent workers.\n",
      "[Parallel(n_jobs=1)]: Done  50 out of  50 | elapsed:    0.6s finished\n"
     ]
    },
    {
     "data": {
      "text/plain": [
       "ExtraTreesClassifier(n_estimators=50, verbose=1)"
      ]
     },
     "execution_count": 22,
     "metadata": {},
     "output_type": "execute_result"
    }
   ],
   "source": [
    "tree_2.fit(x_train,y_train)"
   ]
  },
  {
   "cell_type": "code",
   "execution_count": 23,
   "id": "2b16dd7f",
   "metadata": {},
   "outputs": [
    {
     "name": "stderr",
     "output_type": "stream",
     "text": [
      "[Parallel(n_jobs=1)]: Using backend SequentialBackend with 1 concurrent workers.\n",
      "[Parallel(n_jobs=1)]: Done  50 out of  50 | elapsed:    0.1s finished\n"
     ]
    },
    {
     "data": {
      "text/plain": [
       "0.8970873786407767"
      ]
     },
     "execution_count": 23,
     "metadata": {},
     "output_type": "execute_result"
    }
   ],
   "source": [
    "tree_2.score(x_test,y_test)"
   ]
  },
  {
   "cell_type": "code",
   "execution_count": null,
   "id": "806b4ec8",
   "metadata": {},
   "outputs": [],
   "source": []
  }
 ],
 "metadata": {
  "kernelspec": {
   "display_name": "Python 3",
   "language": "python",
   "name": "python3"
  },
  "language_info": {
   "codemirror_mode": {
    "name": "ipython",
    "version": 3
   },
   "file_extension": ".py",
   "mimetype": "text/x-python",
   "name": "python",
   "nbconvert_exporter": "python",
   "pygments_lexer": "ipython3",
   "version": "3.8.3"
  }
 },
 "nbformat": 4,
 "nbformat_minor": 5
}
